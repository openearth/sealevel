{
 "cells": [
  {
   "cell_type": "code",
   "execution_count": 20,
   "metadata": {},
   "outputs": [],
   "source": [
    "import logging\n",
    "import pathlib\n",
    "import re\n",
    "\n",
    "import xarray as xr\n",
    "import matplotlib.pyplot as plt\n",
    "import pandas as pd\n",
    "import geojson\n",
    "\n",
    "import tqdm"
   ]
  },
  {
   "cell_type": "code",
   "execution_count": 21,
   "metadata": {},
   "outputs": [
    {
     "data": {
      "text/plain": [
       "1404"
      ]
     },
     "execution_count": 21,
     "metadata": {},
     "output_type": "execute_result"
    }
   ],
   "source": [
    "filename = '~/Downloads/reanalysis-surge-1979-m01.nc'\n",
    "filename = '/Users/baart_f/Downloads/reanalysis-tide-1979-m01.nc'\n",
    "\n",
    "data_dir = 'p:/11200665-c3s-codec/2_Hydro/1_RUNS/9_post_processing/2_ERA5/timeseries/Final_set_fixed' \n",
    "files = list(pathlib.Path(data_dir).glob('*.nc'))\n",
    "len(files)"
   ]
  },
  {
   "cell_type": "code",
   "execution_count": 22,
   "metadata": {},
   "outputs": [],
   "source": [
    "def export_geojson(ds):\n",
    "    features = []\n",
    "    for x, y, name in zip(ds.station_x_coordinate.values, ds.station_y_coordinate.values, ds.station_name.values):\n",
    "        features.append(\n",
    "            geojson.Feature(id=name, geometry=geojson.Point([x, y]))\n",
    "        )\n",
    "    result = geojson.FeatureCollection(features)\n",
    "\n",
    "    with open('gtsm-crs.json', 'w') as f:\n",
    "        geojson.dump(result, f)"
   ]
  },
  {
   "cell_type": "code",
   "execution_count": 23,
   "metadata": {},
   "outputs": [],
   "source": [
    "def gtsm2mean(filename):\n",
    "    \"\"\"gtsm\"\"\"\n",
    "    path = pathlib.Path(filename).expanduser()\n",
    "    \n",
    "    pattern = re.compile(\n",
    "        r'reanalysis-(?P<variable>\\w+)-(?P<year>\\d+)-m(?P<month>\\d+)\\.nc'\n",
    "    )\n",
    "    match = pattern.search(str(filename))\n",
    "    if not match:\n",
    "        raise ValueError('filenmae not recognized')\n",
    "    variable = match.group('variable')\n",
    "    \n",
    "    with xr.open_dataset(filename) as ds:\n",
    "        ids = [\n",
    "            b\"NWS_NO_TS_MO_Vlissingen\",\n",
    "            b\"id_obs_hoekvanholla_hvh_nl_rws\",\n",
    "            b\"NWS_NO_TS_MO_Ijmuiden\",\n",
    "            b\"id_obs_denhelder_hel_nl_rws\",\n",
    "            b\"NWS_NO_TS_MO_Harlingen\",\n",
    "            b\"id_obs_delfzijl_del_nl_rws\"\n",
    "        ]\n",
    "        idx = ds.station_name.isin(ids)\n",
    "        station_names = ds.station_name[idx][:]\n",
    "        columns = [x.decode() for x in station_names.values]\n",
    "        df = ds[variable][:, idx].to_pandas()\n",
    "        df.columns = columns\n",
    "        record = df.mean()\n",
    "        record['time'] = df.index.mean()\n",
    "        record['filename'] = filename\n",
    "        record['variable'] = variable\n",
    "        \n",
    "    return record\n",
    "\n"
   ]
  },
  {
   "cell_type": "code",
   "execution_count": 24,
   "metadata": {},
   "outputs": [
    {
     "name": "stderr",
     "output_type": "stream",
     "text": [
      "100%|████████████████████████████████████████████████████████████████████████████| 1404/1404 [6:30:30<00:00, 16.69s/it]\n"
     ]
    }
   ],
   "source": [
    "rows = []\n",
    "for f in tqdm.tqdm(files):\n",
    "    row = gtsm2mean(f)\n",
    "    rows.append(row)\n",
    "df = pd.DataFrame(rows)"
   ]
  },
  {
   "cell_type": "code",
   "execution_count": 25,
   "metadata": {},
   "outputs": [],
   "source": [
    "df.to_csv('reanalysis_mean_nl.csv')"
   ]
  },
  {
   "cell_type": "code",
   "execution_count": null,
   "metadata": {},
   "outputs": [],
   "source": []
  }
 ],
 "metadata": {
  "kernelspec": {
   "display_name": "Python 3",
   "language": "python",
   "name": "python3"
  },
  "language_info": {
   "codemirror_mode": {
    "name": "ipython",
    "version": 3
   },
   "file_extension": ".py",
   "mimetype": "text/x-python",
   "name": "python",
   "nbconvert_exporter": "python",
   "pygments_lexer": "ipython3",
   "version": "3.8.5"
  }
 },
 "nbformat": 4,
 "nbformat_minor": 4
}
