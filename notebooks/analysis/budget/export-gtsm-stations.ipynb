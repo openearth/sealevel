{
 "cells": [
  {
   "cell_type": "code",
   "execution_count": 77,
   "metadata": {},
   "outputs": [],
   "source": [
    "import logging\n",
    "import pathlib\n",
    "import re\n",
    "\n",
    "import xarray as xr\n",
    "import matplotlib.pyplot as plt\n",
    "import pandas as pd\n",
    "import geojson\n"
   ]
  },
  {
   "cell_type": "code",
   "execution_count": 76,
   "metadata": {},
   "outputs": [],
   "source": [
    "filename = '~/Downloads/reanalysis-surge-1979-m01.nc'\n",
    "filename = '/Users/baart_f/Downloads/reanalysis-tide-1979-m01.nc'\n",
    "\n",
    "\n",
    "def export_geojson(ds):\n",
    "    features = []\n",
    "    for x, y, name in zip(ds.station_x_coordinate.values, ds.station_y_coordinate.values, ds.station_name.values):\n",
    "        features.append(\n",
    "            geojson.Feature(id=name, geometry=geojson.Point([x, y]))\n",
    "        )\n",
    "    result = geojson.FeatureCollection(features)\n",
    "\n",
    "    with open('gtsm-crs.json', 'w') as f:\n",
    "        geojson.dump(result, f)"
   ]
  },
  {
   "cell_type": "code",
   "execution_count": 80,
   "metadata": {},
   "outputs": [
    {
     "name": "stdout",
     "output_type": "stream",
     "text": [
      "377 ms ± 28.7 ms per loop (mean ± std. dev. of 7 runs, 1 loop each)\n"
     ]
    }
   ],
   "source": [
    "def gtsm2mean(filename):\n",
    "    \"\"\"gtsm\"\"\"\n",
    "    path = pathlib.Path(filename).expanduser()\n",
    "    \n",
    "    pattern = re.compile(\n",
    "        r'reanalysis-(?P<variable>\\w+)-(?P<year>\\d+)-m(?P<month>\\d+)\\.nc'\n",
    "    )\n",
    "    match = pattern.search(filename)\n",
    "    if not match:\n",
    "        raise ValueError('filenmae not recognized')\n",
    "    variable = match.group('variable')\n",
    "    \n",
    "    with xr.open_dataset(filename) as ds:\n",
    "        ids = [\n",
    "            b\"NWS_NO_TS_MO_Vlissingen\",\n",
    "            b\"id_obs_hoekvanholla_hvh_nl_rws\",\n",
    "            b\"NWS_NO_TS_MO_Ijmuiden\",\n",
    "            b\"id_obs_denhelder_hel_nl_rws\",\n",
    "            b\"NWS_NO_TS_MO_Harlingen\",\n",
    "            b\"id_obs_delfzijl_del_nl_rws\"\n",
    "        ]\n",
    "        idx = ds.station_name.isin(ids)\n",
    "        station_names = ds.station_name[idx][:]\n",
    "        columns = [x.decode() for x in station_names.values]\n",
    "        df = ds[variable][:, idx].to_pandas()\n",
    "        df.columns = columns\n",
    "        record = df.mean()\n",
    "        record['time'] = df.index.mean()\n",
    "        record['filename'] = filename\n",
    "        record['variable'] = variable\n",
    "        \n",
    "    return record\n",
    "\n",
    "%timeit gtsm2mean(filename)"
   ]
  },
  {
   "cell_type": "code",
   "execution_count": null,
   "metadata": {},
   "outputs": [],
   "source": []
  }
 ],
 "metadata": {
  "kernelspec": {
   "display_name": "Python 3",
   "language": "python",
   "name": "python3"
  },
  "language_info": {
   "codemirror_mode": {
    "name": "ipython",
    "version": 3
   },
   "file_extension": ".py",
   "mimetype": "text/x-python",
   "name": "python",
   "nbconvert_exporter": "python",
   "pygments_lexer": "ipython3",
   "version": "3.8.6"
  }
 },
 "nbformat": 4,
 "nbformat_minor": 4
}
