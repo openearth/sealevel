{
 "cells": [
  {
   "cell_type": "code",
   "execution_count": 1,
   "metadata": {},
   "outputs": [],
   "source": [
    "import zipfile\n",
    "import io\n",
    "import datetime\n",
    "import sys\n",
    "\n",
    "import numpy as np\n",
    "import requests\n",
    "import pandas as pd\n",
    "import statsmodels.api as sm\n",
    "\n",
    "sys.path.append('../../..')\n",
    "from lib import psmsl, models"
   ]
  },
  {
   "cell_type": "markdown",
   "metadata": {},
   "source": [
    "# Sea-level acceleration in tide gauge records\n",
    "This notebook gives a rough estimate on the sea-level acceleration in tide gauges. Tide gauges, especially long running tide gauges, are mainly located in cities with ports in the Northern Hemisphere. The acceleration in these locations will be different from the global mean sea-level acceleration. \n"
   ]
  },
  {
   "cell_type": "markdown",
   "metadata": {},
   "source": [
    "Get the data from the PSMSL. This is a zip file with all the annual means. "
   ]
  },
  {
   "cell_type": "code",
   "execution_count": 2,
   "metadata": {},
   "outputs": [],
   "source": [
    "resp = requests.get('http://www.psmsl.org/data/obtaining/rlr.annual.data/rlr_annual.zip')"
   ]
  },
  {
   "cell_type": "code",
   "execution_count": 3,
   "metadata": {},
   "outputs": [],
   "source": [
    "stream = io.BytesIO(resp.content)\n",
    "zf = zipfile.ZipFile(stream)"
   ]
  },
  {
   "cell_type": "code",
   "execution_count": 4,
   "metadata": {},
   "outputs": [],
   "source": [
    "stations = pd.read_csv(\n",
    "    io.BytesIO(zf.read('rlr_annual/filelist.txt')),  \n",
    "    sep=';', \n",
    "    names=('id', 'lat', 'lon', 'name', 'coastline_code', 'station_code', 'quality'),\n",
    "    converters={\n",
    "        'name': str.strip,\n",
    "        'quality': str.strip\n",
    "    }\n",
    ")\n",
    "stations = stations.set_index('id')\n"
   ]
  },
  {
   "cell_type": "markdown",
   "metadata": {},
   "source": [
    "This stations variable now contains a list of all the stations. Now we have to extract all the timeseries."
   ]
  },
  {
   "cell_type": "code",
   "execution_count": 5,
   "metadata": {},
   "outputs": [],
   "source": [
    "measurements = []\n",
    "for i, station in stations.iterrows():\n",
    "    df = psmsl.get_data(zf, station, 'rlr_annual')\n",
    "    measurements.append(df)\n",
    "measurements = pd.concat(measurements)"
   ]
  },
  {
   "cell_type": "markdown",
   "metadata": {},
   "source": [
    "Now we add some metadata. Number of records and temporal coverage"
   ]
  },
  {
   "cell_type": "code",
   "execution_count": 6,
   "metadata": {},
   "outputs": [],
   "source": [
    "records = []\n",
    "for i, df in measurements.groupby('station'):\n",
    "    n_records = df.shape[0]\n",
    "    t_min = df.index.min()\n",
    "    t_max = df.index.max()\n",
    "    records.append({\n",
    "        \"station\": i,\n",
    "        \"n_records\": n_records,\n",
    "        \"t_min\": t_min,\n",
    "        \"t_max\": t_max\n",
    "    })\n",
    "coverage = pd.DataFrame(records)"
   ]
  },
  {
   "cell_type": "markdown",
   "metadata": {},
   "source": [
    "Now we can filter stations based on coverage (> 50 years and latest measurements after 2010)\n"
   ]
  },
  {
   "cell_type": "code",
   "execution_count": 51,
   "metadata": {},
   "outputs": [],
   "source": [
    "selection = coverage[np.logical_and(coverage.n_records > 50, coverage.t_max > datetime.datetime(2010, 1, 1))]\n",
    "selection = selection.set_index('station')\n",
    "selection = pd.merge(stations, selection, left_index=True, right_index=True)"
   ]
  },
  {
   "cell_type": "code",
   "execution_count": 52,
   "metadata": {},
   "outputs": [
    {
     "data": {
      "text/html": [
       "<div>\n",
       "<style scoped>\n",
       "    .dataframe tbody tr th:only-of-type {\n",
       "        vertical-align: middle;\n",
       "    }\n",
       "\n",
       "    .dataframe tbody tr th {\n",
       "        vertical-align: top;\n",
       "    }\n",
       "\n",
       "    .dataframe thead th {\n",
       "        text-align: right;\n",
       "    }\n",
       "</style>\n",
       "<table border=\"1\" class=\"dataframe\">\n",
       "  <thead>\n",
       "    <tr style=\"text-align: right;\">\n",
       "      <th></th>\n",
       "      <th>lat</th>\n",
       "      <th>lon</th>\n",
       "      <th>name</th>\n",
       "      <th>coastline_code</th>\n",
       "      <th>station_code</th>\n",
       "      <th>quality</th>\n",
       "      <th>n_records</th>\n",
       "      <th>t_min</th>\n",
       "      <th>t_max</th>\n",
       "    </tr>\n",
       "  </thead>\n",
       "  <tbody>\n",
       "    <tr>\n",
       "      <th>1</th>\n",
       "      <td>48.382850</td>\n",
       "      <td>-4.494838</td>\n",
       "      <td>BREST</td>\n",
       "      <td>190</td>\n",
       "      <td>91</td>\n",
       "      <td>N</td>\n",
       "      <td>213</td>\n",
       "      <td>1807-01-01</td>\n",
       "      <td>2019-01-01</td>\n",
       "    </tr>\n",
       "    <tr>\n",
       "      <th>5</th>\n",
       "      <td>53.313944</td>\n",
       "      <td>-4.620444</td>\n",
       "      <td>HOLYHEAD</td>\n",
       "      <td>170</td>\n",
       "      <td>191</td>\n",
       "      <td>Y</td>\n",
       "      <td>82</td>\n",
       "      <td>1938-01-01</td>\n",
       "      <td>2019-01-01</td>\n",
       "    </tr>\n",
       "    <tr>\n",
       "      <th>7</th>\n",
       "      <td>53.866667</td>\n",
       "      <td>8.716667</td>\n",
       "      <td>CUXHAVEN 2</td>\n",
       "      <td>140</td>\n",
       "      <td>12</td>\n",
       "      <td>N</td>\n",
       "      <td>176</td>\n",
       "      <td>1843-01-01</td>\n",
       "      <td>2018-01-01</td>\n",
       "    </tr>\n",
       "    <tr>\n",
       "      <th>8</th>\n",
       "      <td>53.898889</td>\n",
       "      <td>11.458056</td>\n",
       "      <td>WISMAR 2</td>\n",
       "      <td>120</td>\n",
       "      <td>22</td>\n",
       "      <td>N</td>\n",
       "      <td>170</td>\n",
       "      <td>1849-01-01</td>\n",
       "      <td>2018-01-01</td>\n",
       "    </tr>\n",
       "    <tr>\n",
       "      <th>9</th>\n",
       "      <td>51.917500</td>\n",
       "      <td>4.249722</td>\n",
       "      <td>MAASSLUIS</td>\n",
       "      <td>150</td>\n",
       "      <td>61</td>\n",
       "      <td>N</td>\n",
       "      <td>172</td>\n",
       "      <td>1848-01-01</td>\n",
       "      <td>2019-01-01</td>\n",
       "    </tr>\n",
       "    <tr>\n",
       "      <th>...</th>\n",
       "      <td>...</td>\n",
       "      <td>...</td>\n",
       "      <td>...</td>\n",
       "      <td>...</td>\n",
       "      <td>...</td>\n",
       "      <td>...</td>\n",
       "      <td>...</td>\n",
       "      <td>...</td>\n",
       "      <td>...</td>\n",
       "    </tr>\n",
       "    <tr>\n",
       "      <th>2105</th>\n",
       "      <td>57.639167</td>\n",
       "      <td>18.284444</td>\n",
       "      <td>VISBY</td>\n",
       "      <td>50</td>\n",
       "      <td>96</td>\n",
       "      <td>N</td>\n",
       "      <td>104</td>\n",
       "      <td>1916-01-01</td>\n",
       "      <td>2019-01-01</td>\n",
       "    </tr>\n",
       "    <tr>\n",
       "      <th>2106</th>\n",
       "      <td>57.275000</td>\n",
       "      <td>16.478056</td>\n",
       "      <td>OSKARSHAMN</td>\n",
       "      <td>50</td>\n",
       "      <td>85</td>\n",
       "      <td>N</td>\n",
       "      <td>59</td>\n",
       "      <td>1961-01-01</td>\n",
       "      <td>2019-01-01</td>\n",
       "    </tr>\n",
       "    <tr>\n",
       "      <th>2109</th>\n",
       "      <td>55.756389</td>\n",
       "      <td>12.903333</td>\n",
       "      <td>BARSEBACK</td>\n",
       "      <td>50</td>\n",
       "      <td>64</td>\n",
       "      <td>N</td>\n",
       "      <td>83</td>\n",
       "      <td>1937-01-01</td>\n",
       "      <td>2019-01-01</td>\n",
       "    </tr>\n",
       "    <tr>\n",
       "      <th>2111</th>\n",
       "      <td>57.249722</td>\n",
       "      <td>12.112500</td>\n",
       "      <td>RINGHALS</td>\n",
       "      <td>50</td>\n",
       "      <td>35</td>\n",
       "      <td>N</td>\n",
       "      <td>52</td>\n",
       "      <td>1968-01-01</td>\n",
       "      <td>2019-01-01</td>\n",
       "    </tr>\n",
       "    <tr>\n",
       "      <th>2112</th>\n",
       "      <td>58.093333</td>\n",
       "      <td>11.832500</td>\n",
       "      <td>STENUNGSUND</td>\n",
       "      <td>50</td>\n",
       "      <td>24</td>\n",
       "      <td>N</td>\n",
       "      <td>54</td>\n",
       "      <td>1966-01-01</td>\n",
       "      <td>2019-01-01</td>\n",
       "    </tr>\n",
       "  </tbody>\n",
       "</table>\n",
       "<p>379 rows × 9 columns</p>\n",
       "</div>"
      ],
      "text/plain": [
       "            lat        lon         name  coastline_code  station_code quality  \\\n",
       "1     48.382850  -4.494838        BREST             190            91       N   \n",
       "5     53.313944  -4.620444     HOLYHEAD             170           191       Y   \n",
       "7     53.866667   8.716667   CUXHAVEN 2             140            12       N   \n",
       "8     53.898889  11.458056     WISMAR 2             120            22       N   \n",
       "9     51.917500   4.249722    MAASSLUIS             150            61       N   \n",
       "...         ...        ...          ...             ...           ...     ...   \n",
       "2105  57.639167  18.284444        VISBY              50            96       N   \n",
       "2106  57.275000  16.478056   OSKARSHAMN              50            85       N   \n",
       "2109  55.756389  12.903333    BARSEBACK              50            64       N   \n",
       "2111  57.249722  12.112500     RINGHALS              50            35       N   \n",
       "2112  58.093333  11.832500  STENUNGSUND              50            24       N   \n",
       "\n",
       "      n_records      t_min      t_max  \n",
       "1           213 1807-01-01 2019-01-01  \n",
       "5            82 1938-01-01 2019-01-01  \n",
       "7           176 1843-01-01 2018-01-01  \n",
       "8           170 1849-01-01 2018-01-01  \n",
       "9           172 1848-01-01 2019-01-01  \n",
       "...         ...        ...        ...  \n",
       "2105        104 1916-01-01 2019-01-01  \n",
       "2106         59 1961-01-01 2019-01-01  \n",
       "2109         83 1937-01-01 2019-01-01  \n",
       "2111         52 1968-01-01 2019-01-01  \n",
       "2112         54 1966-01-01 2019-01-01  \n",
       "\n",
       "[379 rows x 9 columns]"
      ]
     },
     "execution_count": 52,
     "metadata": {},
     "output_type": "execute_result"
    }
   ],
   "source": [
    "# number of selected stations\n",
    "selection"
   ]
  },
  {
   "cell_type": "markdown",
   "metadata": {},
   "source": [
    "Now combine the metadata with the timeseries, so everything is in one dataframe."
   ]
  },
  {
   "cell_type": "code",
   "execution_count": 53,
   "metadata": {},
   "outputs": [
    {
     "data": {
      "text/html": [
       "<div>\n",
       "<style scoped>\n",
       "    .dataframe tbody tr th:only-of-type {\n",
       "        vertical-align: middle;\n",
       "    }\n",
       "\n",
       "    .dataframe tbody tr th {\n",
       "        vertical-align: top;\n",
       "    }\n",
       "\n",
       "    .dataframe thead th {\n",
       "        text-align: right;\n",
       "    }\n",
       "</style>\n",
       "<table border=\"1\" class=\"dataframe\">\n",
       "  <thead>\n",
       "    <tr style=\"text-align: right;\">\n",
       "      <th></th>\n",
       "      <th>year</th>\n",
       "      <th>height</th>\n",
       "      <th>interpolated</th>\n",
       "      <th>flags</th>\n",
       "      <th>station</th>\n",
       "      <th>lat</th>\n",
       "      <th>lon</th>\n",
       "      <th>name</th>\n",
       "      <th>coastline_code</th>\n",
       "      <th>station_code</th>\n",
       "      <th>quality</th>\n",
       "      <th>n_records</th>\n",
       "      <th>t_min</th>\n",
       "      <th>t_max</th>\n",
       "    </tr>\n",
       "    <tr>\n",
       "      <th>t</th>\n",
       "      <th></th>\n",
       "      <th></th>\n",
       "      <th></th>\n",
       "      <th></th>\n",
       "      <th></th>\n",
       "      <th></th>\n",
       "      <th></th>\n",
       "      <th></th>\n",
       "      <th></th>\n",
       "      <th></th>\n",
       "      <th></th>\n",
       "      <th></th>\n",
       "      <th></th>\n",
       "      <th></th>\n",
       "    </tr>\n",
       "  </thead>\n",
       "  <tbody>\n",
       "    <tr>\n",
       "      <th>1807-01-01</th>\n",
       "      <td>1807.0</td>\n",
       "      <td>6970.0</td>\n",
       "      <td>N</td>\n",
       "      <td>10</td>\n",
       "      <td>1</td>\n",
       "      <td>48.38285</td>\n",
       "      <td>-4.494838</td>\n",
       "      <td>BREST</td>\n",
       "      <td>190</td>\n",
       "      <td>91</td>\n",
       "      <td>N</td>\n",
       "      <td>213</td>\n",
       "      <td>1807-01-01</td>\n",
       "      <td>2019-01-01</td>\n",
       "    </tr>\n",
       "    <tr>\n",
       "      <th>1808-01-01</th>\n",
       "      <td>1808.0</td>\n",
       "      <td>6868.0</td>\n",
       "      <td>N</td>\n",
       "      <td>10</td>\n",
       "      <td>1</td>\n",
       "      <td>48.38285</td>\n",
       "      <td>-4.494838</td>\n",
       "      <td>BREST</td>\n",
       "      <td>190</td>\n",
       "      <td>91</td>\n",
       "      <td>N</td>\n",
       "      <td>213</td>\n",
       "      <td>1807-01-01</td>\n",
       "      <td>2019-01-01</td>\n",
       "    </tr>\n",
       "    <tr>\n",
       "      <th>1809-01-01</th>\n",
       "      <td>1809.0</td>\n",
       "      <td>6954.0</td>\n",
       "      <td>N</td>\n",
       "      <td>10</td>\n",
       "      <td>1</td>\n",
       "      <td>48.38285</td>\n",
       "      <td>-4.494838</td>\n",
       "      <td>BREST</td>\n",
       "      <td>190</td>\n",
       "      <td>91</td>\n",
       "      <td>N</td>\n",
       "      <td>213</td>\n",
       "      <td>1807-01-01</td>\n",
       "      <td>2019-01-01</td>\n",
       "    </tr>\n",
       "    <tr>\n",
       "      <th>1810-01-01</th>\n",
       "      <td>1810.0</td>\n",
       "      <td>6947.0</td>\n",
       "      <td>N</td>\n",
       "      <td>10</td>\n",
       "      <td>1</td>\n",
       "      <td>48.38285</td>\n",
       "      <td>-4.494838</td>\n",
       "      <td>BREST</td>\n",
       "      <td>190</td>\n",
       "      <td>91</td>\n",
       "      <td>N</td>\n",
       "      <td>213</td>\n",
       "      <td>1807-01-01</td>\n",
       "      <td>2019-01-01</td>\n",
       "    </tr>\n",
       "    <tr>\n",
       "      <th>1811-01-01</th>\n",
       "      <td>1811.0</td>\n",
       "      <td>6976.0</td>\n",
       "      <td>N</td>\n",
       "      <td>10</td>\n",
       "      <td>1</td>\n",
       "      <td>48.38285</td>\n",
       "      <td>-4.494838</td>\n",
       "      <td>BREST</td>\n",
       "      <td>190</td>\n",
       "      <td>91</td>\n",
       "      <td>N</td>\n",
       "      <td>213</td>\n",
       "      <td>1807-01-01</td>\n",
       "      <td>2019-01-01</td>\n",
       "    </tr>\n",
       "  </tbody>\n",
       "</table>\n",
       "</div>"
      ],
      "text/plain": [
       "              year  height interpolated flags  station       lat       lon  \\\n",
       "t                                                                            \n",
       "1807-01-01  1807.0  6970.0            N    10        1  48.38285 -4.494838   \n",
       "1808-01-01  1808.0  6868.0            N    10        1  48.38285 -4.494838   \n",
       "1809-01-01  1809.0  6954.0            N    10        1  48.38285 -4.494838   \n",
       "1810-01-01  1810.0  6947.0            N    10        1  48.38285 -4.494838   \n",
       "1811-01-01  1811.0  6976.0            N    10        1  48.38285 -4.494838   \n",
       "\n",
       "             name  coastline_code  station_code quality  n_records      t_min  \\\n",
       "t                                                                               \n",
       "1807-01-01  BREST             190            91       N        213 1807-01-01   \n",
       "1808-01-01  BREST             190            91       N        213 1807-01-01   \n",
       "1809-01-01  BREST             190            91       N        213 1807-01-01   \n",
       "1810-01-01  BREST             190            91       N        213 1807-01-01   \n",
       "1811-01-01  BREST             190            91       N        213 1807-01-01   \n",
       "\n",
       "                t_max  \n",
       "t                      \n",
       "1807-01-01 2019-01-01  \n",
       "1808-01-01 2019-01-01  \n",
       "1809-01-01 2019-01-01  \n",
       "1810-01-01 2019-01-01  \n",
       "1811-01-01 2019-01-01  "
      ]
     },
     "execution_count": 53,
     "metadata": {},
     "output_type": "execute_result"
    }
   ],
   "source": [
    "merged = pd.merge(measurements, selection, left_on='station', right_index=True)\n",
    "merged.head()\n"
   ]
  },
  {
   "cell_type": "markdown",
   "metadata": {},
   "source": [
    "Now for each station, filter by year and apply the linear model to compute the acceleration."
   ]
  },
  {
   "cell_type": "code",
   "execution_count": 54,
   "metadata": {},
   "outputs": [],
   "source": [
    "fits = []\n",
    "for i, df in merged.groupby('station'):\n",
    "    fit, names = models.linear_acceleration_model(df[df.year > 1890])\n",
    "    record = {\n",
    "        'fit': fit,\n",
    "        'names': names,\n",
    "        'station': i\n",
    "    }\n",
    "    fits.append(record)\n",
    "fits = pd.DataFrame(fits)\n",
    "fits = fits.set_index('station')"
   ]
  },
  {
   "cell_type": "code",
   "execution_count": 55,
   "metadata": {},
   "outputs": [],
   "source": [
    "result = pd.merge(selection, fits, left_index=True, right_index=True)"
   ]
  },
  {
   "cell_type": "code",
   "execution_count": 56,
   "metadata": {},
   "outputs": [],
   "source": [
    "acceleration = result['fit'].apply(lambda fit: fit.params.x2)\n",
    "result['acceleration'] = acceleration"
   ]
  },
  {
   "cell_type": "markdown",
   "metadata": {},
   "source": [
    "Sort by acceleration  (higher acceleration)\n"
   ]
  },
  {
   "cell_type": "code",
   "execution_count": 65,
   "metadata": {},
   "outputs": [
    {
     "data": {
      "text/html": [
       "<div>\n",
       "<style scoped>\n",
       "    .dataframe tbody tr th:only-of-type {\n",
       "        vertical-align: middle;\n",
       "    }\n",
       "\n",
       "    .dataframe tbody tr th {\n",
       "        vertical-align: top;\n",
       "    }\n",
       "\n",
       "    .dataframe thead th {\n",
       "        text-align: right;\n",
       "    }\n",
       "</style>\n",
       "<table border=\"1\" class=\"dataframe\">\n",
       "  <thead>\n",
       "    <tr style=\"text-align: right;\">\n",
       "      <th></th>\n",
       "      <th>name</th>\n",
       "      <th>coastline_code</th>\n",
       "      <th>acceleration</th>\n",
       "    </tr>\n",
       "  </thead>\n",
       "  <tbody>\n",
       "    <tr>\n",
       "      <th>131</th>\n",
       "      <td>AYUKAWA</td>\n",
       "      <td>642</td>\n",
       "      <td>0.419296</td>\n",
       "    </tr>\n",
       "    <tr>\n",
       "      <th>1060</th>\n",
       "      <td>MIYAKE SIMA</td>\n",
       "      <td>642</td>\n",
       "      <td>0.313212</td>\n",
       "    </tr>\n",
       "    <tr>\n",
       "      <th>409</th>\n",
       "      <td>POSIDHONIA</td>\n",
       "      <td>290</td>\n",
       "      <td>0.208085</td>\n",
       "    </tr>\n",
       "    <tr>\n",
       "      <th>1234</th>\n",
       "      <td>SIROS</td>\n",
       "      <td>290</td>\n",
       "      <td>0.172184</td>\n",
       "    </tr>\n",
       "    <tr>\n",
       "      <th>1232</th>\n",
       "      <td>SOUDHAS</td>\n",
       "      <td>290</td>\n",
       "      <td>0.170070</td>\n",
       "    </tr>\n",
       "  </tbody>\n",
       "</table>\n",
       "</div>"
      ],
      "text/plain": [
       "             name  coastline_code  acceleration\n",
       "131       AYUKAWA             642      0.419296\n",
       "1060  MIYAKE SIMA             642      0.313212\n",
       "409    POSIDHONIA             290      0.208085\n",
       "1234        SIROS             290      0.172184\n",
       "1232      SOUDHAS             290      0.170070"
      ]
     },
     "execution_count": 65,
     "metadata": {},
     "output_type": "execute_result"
    }
   ],
   "source": [
    "result.sort_values('acceleration', ascending=False)[['name', 'coastline_code', 'acceleration']].head(n=5)\n",
    "    "
   ]
  },
  {
   "cell_type": "code",
   "execution_count": 78,
   "metadata": {},
   "outputs": [
    {
     "data": {
      "text/plain": [
       "<matplotlib.legend.Legend at 0x1270dcee0>"
      ]
     },
     "execution_count": 78,
     "metadata": {},
     "output_type": "execute_result"
    },
    {
     "data": {
      "image/png": "[encoded data removed]",
      "text/plain": [
       "<Figure size 432x288 with 1 Axes>"
      ]
     },
     "metadata": {
      "needs_background": "light"
     },
     "output_type": "display_data"
    }
   ],
   "source": [
    "ax = result['acceleration'].hist(bins=200, alpha=0.5, label='All stations')\n",
    "ax.set_xlabel('acceleration [mm/y^2]')\n",
    "nl_acceleration = result.query('coastline_code == 150')['acceleration']\n",
    "result.query('coastline_code == 150')['acceleration'].hist(bins=5, ax=ax, label='Dutch Stations')\n",
    "ax.legend(loc='best')\n"
   ]
  },
  {
   "cell_type": "code",
   "execution_count": null,
   "metadata": {},
   "outputs": [],
   "source": []
  }
 ],
 "metadata": {
  "kernelspec": {
   "display_name": "Python 3",
   "language": "python",
   "name": "python3"
  },
  "language_info": {
   "codemirror_mode": {
    "name": "ipython",
    "version": 3
   },
   "file_extension": ".py",
   "mimetype": "text/x-python",
   "name": "python",
   "nbconvert_exporter": "python",
   "pygments_lexer": "ipython3",
   "version": "3.8.6"
  }
 },
 "nbformat": 4,
 "nbformat_minor": 4
}
