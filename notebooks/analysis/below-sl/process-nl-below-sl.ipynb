{
 "cells": [
  {
   "cell_type": "markdown",
   "metadata": {},
   "source": [
    "# NL below SL\n",
    "This notebook shows the results of the analysis of the Netherlands below sea-level analysis.\n",
    "This accompanies the google earth engine script. For each tile it is computed how many 0.5x0.5m pixels a histogram is computed. This analysis combines all the grid tiles into one histogram. "
   ]
  },
  {
   "cell_type": "code",
   "execution_count": 8,
   "metadata": {},
   "outputs": [],
   "source": [
    "# read files\n",
    "import pathlib\n",
    "import re\n",
    "import itertools\n",
    "\n",
    "# computations\n",
    "import numpy as np\n",
    "\n",
    "# tables\n",
    "import pandas as pd\n",
    "import geojson\n",
    "import geopandas\n",
    "\n",
    "# plotting\n",
    "import matplotlib.pyplot as plt\n",
    "%matplotlib inline"
   ]
  },
  {
   "cell_type": "code",
   "execution_count": 9,
   "metadata": {},
   "outputs": [],
   "source": [
    "# All data is stored here. An extract from the results of the Google Earth Engine. Takes a few days to compute. \n",
    "data_dir = pathlib.Path('~/src/sealevel/data/deltares/nl-below-sl/').expanduser()"
   ]
  },
  {
   "cell_type": "code",
   "execution_count": 10,
   "metadata": {},
   "outputs": [],
   "source": [
    "# loop over all tiles, combine into 1 set of features\n",
    "features = []\n",
    "paths = data_dir.glob('*.geojson')\n",
    "for path in paths:\n",
    "    with path.open() as f:\n",
    "        data = geojson.load(f)\n",
    "        for feature in data['features']:\n",
    "            feature['properties']['filename'] = path.name\n",
    "        features.extend(data.features)"
   ]
  },
  {
   "cell_type": "code",
   "execution_count": 11,
   "metadata": {},
   "outputs": [],
   "source": [
    "features = geojson.FeatureCollection(features=features)"
   ]
  },
  {
   "cell_type": "code",
   "execution_count": 12,
   "metadata": {},
   "outputs": [
    {
     "data": {
      "text/html": [
       "<div>\n",
       "<style scoped>\n",
       "    .dataframe tbody tr th:only-of-type {\n",
       "        vertical-align: middle;\n",
       "    }\n",
       "\n",
       "    .dataframe tbody tr th {\n",
       "        vertical-align: top;\n",
       "    }\n",
       "\n",
       "    .dataframe thead th {\n",
       "        text-align: right;\n",
       "    }\n",
       "</style>\n",
       "<table border=\"1\" class=\"dataframe\">\n",
       "  <thead>\n",
       "    <tr style=\"text-align: right;\">\n",
       "      <th></th>\n",
       "      <th>geometry</th>\n",
       "      <th>count</th>\n",
       "      <th>hist</th>\n",
       "      <th>maskedFrac</th>\n",
       "      <th>nGte0</th>\n",
       "      <th>nLt0</th>\n",
       "      <th>filename</th>\n",
       "    </tr>\n",
       "  </thead>\n",
       "  <tbody>\n",
       "    <tr>\n",
       "      <th>0</th>\n",
       "      <td>POLYGON ((5.84654 53.02871, 5.94654 53.02871, ...</td>\n",
       "      <td>{'elevation': 251181574}</td>\n",
       "      <td>{'elevation': [[-3.39, 17.0], [-3.380000000000...</td>\n",
       "      <td>{'elevation': 0.8420256523803018}</td>\n",
       "      <td>{'elevation': 10743178.7372549}</td>\n",
       "      <td>{'elevation': 240439648.52156848}</td>\n",
       "      <td>05m-noclip-26-23ee_export.geojson</td>\n",
       "    </tr>\n",
       "    <tr>\n",
       "      <th>1</th>\n",
       "      <td>POLYGON ((5.24654 52.62871, 5.34654 52.62871, ...</td>\n",
       "      <td>{'elevation': 45998502}</td>\n",
       "      <td>{'elevation': [[-10.65, 3.0], [-10.64, 6.0], [...</td>\n",
       "      <td>{'elevation': 0.15281616845991558}</td>\n",
       "      <td>{'elevation': 6576408.65882353}</td>\n",
       "      <td>{'elevation': 39423366.01960784}</td>\n",
       "      <td>05m-noclip-20-19ee_export.geojson</td>\n",
       "    </tr>\n",
       "    <tr>\n",
       "      <th>2</th>\n",
       "      <td>POLYGON ((5.24654 53.42871, 5.34654 53.42871, ...</td>\n",
       "      <td>{'elevation': 0}</td>\n",
       "      <td>{'elevation': None}</td>\n",
       "      <td>{'elevation': 0.0}</td>\n",
       "      <td>{'elevation': 0.0}</td>\n",
       "      <td>{'elevation': 0.0}</td>\n",
       "      <td>05m-noclip-20-27ee_export.geojson</td>\n",
       "    </tr>\n",
       "    <tr>\n",
       "      <th>3</th>\n",
       "      <td>POLYGON ((4.14654 53.02871, 4.24654 53.02871, ...</td>\n",
       "      <td>{'elevation': 0}</td>\n",
       "      <td>{'elevation': None}</td>\n",
       "      <td>{'elevation': 0.0}</td>\n",
       "      <td>{'elevation': 0.0}</td>\n",
       "      <td>{'elevation': 0.0}</td>\n",
       "      <td>05m-noclip-9-23ee_export.geojson</td>\n",
       "    </tr>\n",
       "    <tr>\n",
       "      <th>4</th>\n",
       "      <td>POLYGON ((6.04654 52.02871, 6.14654 52.02871, ...</td>\n",
       "      <td>{'elevation': 273436752}</td>\n",
       "      <td>{'elevation': [[5.63, 1.0], [5.64, 0.0], [5.64...</td>\n",
       "      <td>{'elevation': 0.8962594530088386}</td>\n",
       "      <td>{'elevation': 273437292.309804}</td>\n",
       "      <td>{'elevation': 0.0}</td>\n",
       "      <td>05m-noclip-28-13ee_export.geojson</td>\n",
       "    </tr>\n",
       "    <tr>\n",
       "      <th>...</th>\n",
       "      <td>...</td>\n",
       "      <td>...</td>\n",
       "      <td>...</td>\n",
       "      <td>...</td>\n",
       "      <td>...</td>\n",
       "      <td>...</td>\n",
       "      <td>...</td>\n",
       "    </tr>\n",
       "    <tr>\n",
       "      <th>1109</th>\n",
       "      <td>POLYGON ((6.04654 52.82871, 6.14654 52.82871, ...</td>\n",
       "      <td>{'elevation': 288722476}</td>\n",
       "      <td>{'elevation': [[-2.17, 1.0], [-2.16, 4.0], [-2...</td>\n",
       "      <td>{'elevation': 0.9634812293312885}</td>\n",
       "      <td>{'elevation': 270487715.05098045}</td>\n",
       "      <td>{'elevation': 18235813.180392154}</td>\n",
       "      <td>05m-noclip-28-21ee_export.geojson</td>\n",
       "    </tr>\n",
       "    <tr>\n",
       "      <th>1110</th>\n",
       "      <td>POLYGON ((5.64654 53.12871, 5.74654 53.12871, ...</td>\n",
       "      <td>{'elevation': 283583248}</td>\n",
       "      <td>{'elevation': [[-4.0, 4.0], [-3.99, 7.0], [-3....</td>\n",
       "      <td>{'elevation': 0.9528099900382695}</td>\n",
       "      <td>{'elevation': 219860966.9137254}</td>\n",
       "      <td>{'elevation': 63720932.400000006}</td>\n",
       "      <td>05m-noclip-24-24ee_export.geojson</td>\n",
       "    </tr>\n",
       "    <tr>\n",
       "      <th>1111</th>\n",
       "      <td>POLYGON ((5.44654 52.72871, 5.54654 52.72871, ...</td>\n",
       "      <td>{'elevation': 0}</td>\n",
       "      <td>{'elevation': None}</td>\n",
       "      <td>{'elevation': 0.0}</td>\n",
       "      <td>{'elevation': 0.0}</td>\n",
       "      <td>{'elevation': 0.0}</td>\n",
       "      <td>05m-noclip-22-20ee_export.geojson</td>\n",
       "    </tr>\n",
       "    <tr>\n",
       "      <th>1112</th>\n",
       "      <td>POLYGON ((3.74654 52.12871, 3.84654 52.12871, ...</td>\n",
       "      <td>{'elevation': 0}</td>\n",
       "      <td>{'elevation': None}</td>\n",
       "      <td>{'elevation': 0.0}</td>\n",
       "      <td>{'elevation': 0.0}</td>\n",
       "      <td>{'elevation': 0.0}</td>\n",
       "      <td>05m-noclip-5-14ee_export.geojson</td>\n",
       "    </tr>\n",
       "    <tr>\n",
       "      <th>1113</th>\n",
       "      <td>POLYGON ((3.54654 51.72871, 3.64654 51.72871, ...</td>\n",
       "      <td>{'elevation': 0}</td>\n",
       "      <td>{'elevation': None}</td>\n",
       "      <td>{'elevation': 0.0}</td>\n",
       "      <td>{'elevation': 0.0}</td>\n",
       "      <td>{'elevation': 0.0}</td>\n",
       "      <td>05m-noclip-3-10ee_export.geojson</td>\n",
       "    </tr>\n",
       "  </tbody>\n",
       "</table>\n",
       "<p>1114 rows × 7 columns</p>\n",
       "</div>"
      ],
      "text/plain": [
       "                                               geometry  \\\n",
       "0     POLYGON ((5.84654 53.02871, 5.94654 53.02871, ...   \n",
       "1     POLYGON ((5.24654 52.62871, 5.34654 52.62871, ...   \n",
       "2     POLYGON ((5.24654 53.42871, 5.34654 53.42871, ...   \n",
       "3     POLYGON ((4.14654 53.02871, 4.24654 53.02871, ...   \n",
       "4     POLYGON ((6.04654 52.02871, 6.14654 52.02871, ...   \n",
       "...                                                 ...   \n",
       "1109  POLYGON ((6.04654 52.82871, 6.14654 52.82871, ...   \n",
       "1110  POLYGON ((5.64654 53.12871, 5.74654 53.12871, ...   \n",
       "1111  POLYGON ((5.44654 52.72871, 5.54654 52.72871, ...   \n",
       "1112  POLYGON ((3.74654 52.12871, 3.84654 52.12871, ...   \n",
       "1113  POLYGON ((3.54654 51.72871, 3.64654 51.72871, ...   \n",
       "\n",
       "                         count  \\\n",
       "0     {'elevation': 251181574}   \n",
       "1      {'elevation': 45998502}   \n",
       "2             {'elevation': 0}   \n",
       "3             {'elevation': 0}   \n",
       "4     {'elevation': 273436752}   \n",
       "...                        ...   \n",
       "1109  {'elevation': 288722476}   \n",
       "1110  {'elevation': 283583248}   \n",
       "1111          {'elevation': 0}   \n",
       "1112          {'elevation': 0}   \n",
       "1113          {'elevation': 0}   \n",
       "\n",
       "                                                   hist  \\\n",
       "0     {'elevation': [[-3.39, 17.0], [-3.380000000000...   \n",
       "1     {'elevation': [[-10.65, 3.0], [-10.64, 6.0], [...   \n",
       "2                                   {'elevation': None}   \n",
       "3                                   {'elevation': None}   \n",
       "4     {'elevation': [[5.63, 1.0], [5.64, 0.0], [5.64...   \n",
       "...                                                 ...   \n",
       "1109  {'elevation': [[-2.17, 1.0], [-2.16, 4.0], [-2...   \n",
       "1110  {'elevation': [[-4.0, 4.0], [-3.99, 7.0], [-3....   \n",
       "1111                                {'elevation': None}   \n",
       "1112                                {'elevation': None}   \n",
       "1113                                {'elevation': None}   \n",
       "\n",
       "                              maskedFrac                              nGte0  \\\n",
       "0      {'elevation': 0.8420256523803018}    {'elevation': 10743178.7372549}   \n",
       "1     {'elevation': 0.15281616845991558}    {'elevation': 6576408.65882353}   \n",
       "2                     {'elevation': 0.0}                 {'elevation': 0.0}   \n",
       "3                     {'elevation': 0.0}                 {'elevation': 0.0}   \n",
       "4      {'elevation': 0.8962594530088386}    {'elevation': 273437292.309804}   \n",
       "...                                  ...                                ...   \n",
       "1109   {'elevation': 0.9634812293312885}  {'elevation': 270487715.05098045}   \n",
       "1110   {'elevation': 0.9528099900382695}   {'elevation': 219860966.9137254}   \n",
       "1111                  {'elevation': 0.0}                 {'elevation': 0.0}   \n",
       "1112                  {'elevation': 0.0}                 {'elevation': 0.0}   \n",
       "1113                  {'elevation': 0.0}                 {'elevation': 0.0}   \n",
       "\n",
       "                                   nLt0                           filename  \n",
       "0     {'elevation': 240439648.52156848}  05m-noclip-26-23ee_export.geojson  \n",
       "1      {'elevation': 39423366.01960784}  05m-noclip-20-19ee_export.geojson  \n",
       "2                    {'elevation': 0.0}  05m-noclip-20-27ee_export.geojson  \n",
       "3                    {'elevation': 0.0}   05m-noclip-9-23ee_export.geojson  \n",
       "4                    {'elevation': 0.0}  05m-noclip-28-13ee_export.geojson  \n",
       "...                                 ...                                ...  \n",
       "1109  {'elevation': 18235813.180392154}  05m-noclip-28-21ee_export.geojson  \n",
       "1110  {'elevation': 63720932.400000006}  05m-noclip-24-24ee_export.geojson  \n",
       "1111                 {'elevation': 0.0}  05m-noclip-22-20ee_export.geojson  \n",
       "1112                 {'elevation': 0.0}   05m-noclip-5-14ee_export.geojson  \n",
       "1113                 {'elevation': 0.0}   05m-noclip-3-10ee_export.geojson  \n",
       "\n",
       "[1114 rows x 7 columns]"
      ]
     },
     "execution_count": 12,
     "metadata": {},
     "output_type": "execute_result"
    }
   ],
   "source": [
    "# store in 1 table\n",
    "gdf = geopandas.GeoDataFrame.from_features(features)\n",
    "gdf"
   ]
  },
  {
   "cell_type": "code",
   "execution_count": 15,
   "metadata": {},
   "outputs": [],
   "source": [
    "# read all files\n",
    "filename_pattern = re.compile(r'05m-noclip-(?P<i>\\d+)-(?P<j>\\d+)ee_export.geojson')\n",
    "gdf['file_info'] = gdf.filename.apply(lambda x: filename_pattern.search(x).groupdict())\n",
    "gdf['i'] = gdf['file_info'].apply(lambda x: int(x['i']))\n",
    "gdf['j'] = gdf['file_info'].apply(lambda x: int(x['j']))"
   ]
  },
  {
   "cell_type": "code",
   "execution_count": 16,
   "metadata": {},
   "outputs": [
    {
     "data": {
      "text/plain": [
       "<matplotlib.axes._subplots.AxesSubplot at 0x134645670>"
      ]
     },
     "execution_count": 16,
     "metadata": {},
     "output_type": "execute_result"
    },
    {
     "data": {
      "image/png": "[encoded data removed]",
      "text/plain": [
       "<Figure size 432x288 with 1 Axes>"
      ]
     },
     "metadata": {
      "needs_background": "light"
     },
     "output_type": "display_data"
    }
   ],
   "source": [
    "# make sure all files are available\n",
    "gdf.plot()"
   ]
  },
  {
   "cell_type": "code",
   "execution_count": 17,
   "metadata": {},
   "outputs": [
    {
     "data": {
      "text/plain": [
       "set()"
      ]
     },
     "execution_count": 17,
     "metadata": {},
     "output_type": "execute_result"
    }
   ],
   "source": [
    "# check that there are no more grids to compute\n",
    "# this should be empty \n",
    "gdf[['i', 'j']].sort_values(['i', 'j'])\n",
    "set(range(40)) - set(gdf['i'])"
   ]
  },
  {
   "cell_type": "code",
   "execution_count": 18,
   "metadata": {},
   "outputs": [],
   "source": [
    "# convert to usable fields, GEE returns some results in dictionaries\n",
    "gdf['n_gte0'] = gdf['nGte0'].apply(lambda x: x['elevation'])\n",
    "gdf['n_lt0'] = gdf['nLt0'].apply(lambda x: x['elevation'])\n",
    "gdf['total'] = gdf['n_lt0'] + gdf['n_gte0']\n",
    "gdf['total_count'] = gdf['count'].apply(lambda x: x['elevation'])\n",
    "gdf['masked_frac'] = gdf['maskedFrac'].apply(lambda x: x['elevation'])"
   ]
  },
  {
   "cell_type": "code",
   "execution_count": 19,
   "metadata": {},
   "outputs": [],
   "source": [
    "# get the bins and the counts from the histogram\n",
    "gdf['bins'] = gdf['hist'].apply(lambda x: x['elevation']).apply(lambda x: [x_i[0] for x_i in x] if x else [])\n",
    "gdf['counts'] = gdf['hist'].apply(lambda x: x['elevation']).apply(lambda x: [x_i[1] for x_i in x] if x else [])"
   ]
  },
  {
   "cell_type": "code",
   "execution_count": 20,
   "metadata": {},
   "outputs": [
    {
     "data": {
      "text/plain": [
       "0.25933482604812025"
      ]
     },
     "execution_count": 20,
     "metadata": {},
     "output_type": "execute_result"
    }
   ],
   "source": [
    "# the % below NAP\n",
    "gte0 = gdf['n_gte0'].sum() \n",
    "lt0 = gdf['n_lt0'].sum()\n",
    "lt0 / (gte0 + lt0)"
   ]
  },
  {
   "cell_type": "code",
   "execution_count": 21,
   "metadata": {},
   "outputs": [
    {
     "data": {
      "text/plain": [
       "(-31.29, 83307.52, 0.0, 252703487.65881482, -5.119999999999999)"
      ]
     },
     "execution_count": 21,
     "metadata": {},
     "output_type": "execute_result"
    }
   ],
   "source": [
    "# Lookup min and max altitude, the maximum altitude is 83km\n",
    "# this is an error in the source of AHN2\n",
    "# there is also a large amount of pixels set to value -5.12, not sure why....\n",
    "bins = list(itertools.chain.from_iterable(gdf['bins'].values))\n",
    "counts = list(itertools.chain.from_iterable(gdf['counts'].values))\n",
    "np.min(bins), np.max(bins), np.min(counts), np.max(counts), bins[np.argmax(counts)]\n"
   ]
  },
  {
   "cell_type": "code",
   "execution_count": 22,
   "metadata": {},
   "outputs": [
    {
     "data": {
      "text/html": [
       "<div>\n",
       "<style scoped>\n",
       "    .dataframe tbody tr th:only-of-type {\n",
       "        vertical-align: middle;\n",
       "    }\n",
       "\n",
       "    .dataframe tbody tr th {\n",
       "        vertical-align: top;\n",
       "    }\n",
       "\n",
       "    .dataframe thead th {\n",
       "        text-align: right;\n",
       "    }\n",
       "</style>\n",
       "<table border=\"1\" class=\"dataframe\">\n",
       "  <thead>\n",
       "    <tr style=\"text-align: right;\">\n",
       "      <th></th>\n",
       "      <th>geometry</th>\n",
       "      <th>count</th>\n",
       "      <th>hist</th>\n",
       "      <th>maskedFrac</th>\n",
       "      <th>nGte0</th>\n",
       "      <th>nLt0</th>\n",
       "      <th>filename</th>\n",
       "      <th>file_info</th>\n",
       "      <th>i</th>\n",
       "      <th>j</th>\n",
       "      <th>n_gte0</th>\n",
       "      <th>n_lt0</th>\n",
       "      <th>total</th>\n",
       "      <th>total_count</th>\n",
       "      <th>masked_frac</th>\n",
       "      <th>bins</th>\n",
       "      <th>counts</th>\n",
       "      <th>count_x</th>\n",
       "    </tr>\n",
       "  </thead>\n",
       "  <tbody>\n",
       "    <tr>\n",
       "      <th>393</th>\n",
       "      <td>POLYGON ((4.54654 52.12871, 4.64654 52.12871, ...</td>\n",
       "      <td>{'elevation': 263777984}</td>\n",
       "      <td>{'elevation': [[-15.36, 20158.0], [-10.2399999...</td>\n",
       "      <td>{'elevation': 0.8665202564578398}</td>\n",
       "      <td>{'elevation': 7777304.568627451}</td>\n",
       "      <td>{'elevation': 256001651.36078432}</td>\n",
       "      <td>05m-noclip-13-14ee_export.geojson</td>\n",
       "      <td>{'i': '13', 'j': '14'}</td>\n",
       "      <td>13</td>\n",
       "      <td>14</td>\n",
       "      <td>7.777305e+06</td>\n",
       "      <td>2.560017e+08</td>\n",
       "      <td>2.637790e+08</td>\n",
       "      <td>263777984</td>\n",
       "      <td>0.866520</td>\n",
       "      <td>[-15.36, -10.239999999999998, -5.1199999999999...</td>\n",
       "      <td>[20158.0, 3278005.7019607895, 252703487.658814...</td>\n",
       "      <td>2.527035e+08</td>\n",
       "    </tr>\n",
       "    <tr>\n",
       "      <th>1099</th>\n",
       "      <td>POLYGON ((4.44654 51.92871, 4.54654 51.92871, ...</td>\n",
       "      <td>{'elevation': 274587131}</td>\n",
       "      <td>{'elevation': [[-15.41, 1.0], [-15.4, 1.0], [-...</td>\n",
       "      <td>{'elevation': 0.8980162435714634}</td>\n",
       "      <td>{'elevation': 8373630.227450982}</td>\n",
       "      <td>{'elevation': 266211964.50980392}</td>\n",
       "      <td>05m-noclip-12-12ee_export.geojson</td>\n",
       "      <td>{'i': '12', 'j': '12'}</td>\n",
       "      <td>12</td>\n",
       "      <td>12</td>\n",
       "      <td>8.373630e+06</td>\n",
       "      <td>2.662120e+08</td>\n",
       "      <td>2.745856e+08</td>\n",
       "      <td>274587131</td>\n",
       "      <td>0.898016</td>\n",
       "      <td>[-15.41, -15.4, -15.39, -15.38, -15.3700000000...</td>\n",
       "      <td>[1.0, 1.0, 3.0, 3.0, 5.0, 8.0, 12.0, 3.0, 9.0,...</td>\n",
       "      <td>1.259554e+06</td>\n",
       "    </tr>\n",
       "    <tr>\n",
       "      <th>841</th>\n",
       "      <td>POLYGON ((4.54654 52.02871, 4.64654 52.02871, ...</td>\n",
       "      <td>{'elevation': 287543767}</td>\n",
       "      <td>{'elevation': [[-13.85, 1.0], [-13.84, 0.0], [...</td>\n",
       "      <td>{'elevation': 0.9424958031048816}</td>\n",
       "      <td>{'elevation': 979175.6039215686}</td>\n",
       "      <td>{'elevation': 286565912.0549019}</td>\n",
       "      <td>05m-noclip-13-13ee_export.geojson</td>\n",
       "      <td>{'i': '13', 'j': '13'}</td>\n",
       "      <td>13</td>\n",
       "      <td>13</td>\n",
       "      <td>9.791756e+05</td>\n",
       "      <td>2.865659e+08</td>\n",
       "      <td>2.875451e+08</td>\n",
       "      <td>287543767</td>\n",
       "      <td>0.942496</td>\n",
       "      <td>[-13.85, -13.84, -13.83, -13.82, -13.81, -13.7...</td>\n",
       "      <td>[1.0, 0.0, 1.0, 3.0, 1.0, 0.0, 1.0, 3.0, 1.0, ...</td>\n",
       "      <td>1.095328e+06</td>\n",
       "    </tr>\n",
       "    <tr>\n",
       "      <th>111</th>\n",
       "      <td>POLYGON ((4.54654 52.22871, 4.64654 52.22871, ...</td>\n",
       "      <td>{'elevation': 287703718}</td>\n",
       "      <td>{'elevation': [[-9.03, 1.0], [-9.02, 1.0], [-9...</td>\n",
       "      <td>{'elevation': 0.9472245825598202}</td>\n",
       "      <td>{'elevation': 41464503.05882352}</td>\n",
       "      <td>{'elevation': 246240272.39215678}</td>\n",
       "      <td>05m-noclip-13-15ee_export.geojson</td>\n",
       "      <td>{'i': '13', 'j': '15'}</td>\n",
       "      <td>13</td>\n",
       "      <td>15</td>\n",
       "      <td>4.146450e+07</td>\n",
       "      <td>2.462403e+08</td>\n",
       "      <td>2.877048e+08</td>\n",
       "      <td>287703718</td>\n",
       "      <td>0.947225</td>\n",
       "      <td>[-9.03, -9.02, -9.01, -9.0, -8.99, -8.97999999...</td>\n",
       "      <td>[1.0, 1.0, 0.0, 6.0, 8.0, 18.0, 12.0, 4.0, 5.0...</td>\n",
       "      <td>7.868635e+05</td>\n",
       "    </tr>\n",
       "    <tr>\n",
       "      <th>465</th>\n",
       "      <td>POLYGON ((4.64654 52.12871, 4.74654 52.12871, ...</td>\n",
       "      <td>{'elevation': 262003588}</td>\n",
       "      <td>{'elevation': [[-7.42, 1.0], [-7.41, 18.0], [-...</td>\n",
       "      <td>{'elevation': 0.8606972878032394}</td>\n",
       "      <td>{'elevation': 4403477.68627451}</td>\n",
       "      <td>{'elevation': 257600656.89411747}</td>\n",
       "      <td>05m-noclip-14-14ee_export.geojson</td>\n",
       "      <td>{'i': '14', 'j': '14'}</td>\n",
       "      <td>14</td>\n",
       "      <td>14</td>\n",
       "      <td>4.403478e+06</td>\n",
       "      <td>2.576007e+08</td>\n",
       "      <td>2.620041e+08</td>\n",
       "      <td>262003588</td>\n",
       "      <td>0.860697</td>\n",
       "      <td>[-7.42, -7.41, -7.4, -7.39, -7.38, -7.37, -7.3...</td>\n",
       "      <td>[1.0, 18.0, 7.0, 3.0, 8.0, 1.0, 0.0, 6.0, 0.0,...</td>\n",
       "      <td>6.743415e+05</td>\n",
       "    </tr>\n",
       "  </tbody>\n",
       "</table>\n",
       "</div>"
      ],
      "text/plain": [
       "                                               geometry  \\\n",
       "393   POLYGON ((4.54654 52.12871, 4.64654 52.12871, ...   \n",
       "1099  POLYGON ((4.44654 51.92871, 4.54654 51.92871, ...   \n",
       "841   POLYGON ((4.54654 52.02871, 4.64654 52.02871, ...   \n",
       "111   POLYGON ((4.54654 52.22871, 4.64654 52.22871, ...   \n",
       "465   POLYGON ((4.64654 52.12871, 4.74654 52.12871, ...   \n",
       "\n",
       "                         count  \\\n",
       "393   {'elevation': 263777984}   \n",
       "1099  {'elevation': 274587131}   \n",
       "841   {'elevation': 287543767}   \n",
       "111   {'elevation': 287703718}   \n",
       "465   {'elevation': 262003588}   \n",
       "\n",
       "                                                   hist  \\\n",
       "393   {'elevation': [[-15.36, 20158.0], [-10.2399999...   \n",
       "1099  {'elevation': [[-15.41, 1.0], [-15.4, 1.0], [-...   \n",
       "841   {'elevation': [[-13.85, 1.0], [-13.84, 0.0], [...   \n",
       "111   {'elevation': [[-9.03, 1.0], [-9.02, 1.0], [-9...   \n",
       "465   {'elevation': [[-7.42, 1.0], [-7.41, 18.0], [-...   \n",
       "\n",
       "                             maskedFrac                             nGte0  \\\n",
       "393   {'elevation': 0.8665202564578398}  {'elevation': 7777304.568627451}   \n",
       "1099  {'elevation': 0.8980162435714634}  {'elevation': 8373630.227450982}   \n",
       "841   {'elevation': 0.9424958031048816}  {'elevation': 979175.6039215686}   \n",
       "111   {'elevation': 0.9472245825598202}  {'elevation': 41464503.05882352}   \n",
       "465   {'elevation': 0.8606972878032394}   {'elevation': 4403477.68627451}   \n",
       "\n",
       "                                   nLt0                           filename  \\\n",
       "393   {'elevation': 256001651.36078432}  05m-noclip-13-14ee_export.geojson   \n",
       "1099  {'elevation': 266211964.50980392}  05m-noclip-12-12ee_export.geojson   \n",
       "841    {'elevation': 286565912.0549019}  05m-noclip-13-13ee_export.geojson   \n",
       "111   {'elevation': 246240272.39215678}  05m-noclip-13-15ee_export.geojson   \n",
       "465   {'elevation': 257600656.89411747}  05m-noclip-14-14ee_export.geojson   \n",
       "\n",
       "                   file_info   i   j        n_gte0         n_lt0  \\\n",
       "393   {'i': '13', 'j': '14'}  13  14  7.777305e+06  2.560017e+08   \n",
       "1099  {'i': '12', 'j': '12'}  12  12  8.373630e+06  2.662120e+08   \n",
       "841   {'i': '13', 'j': '13'}  13  13  9.791756e+05  2.865659e+08   \n",
       "111   {'i': '13', 'j': '15'}  13  15  4.146450e+07  2.462403e+08   \n",
       "465   {'i': '14', 'j': '14'}  14  14  4.403478e+06  2.576007e+08   \n",
       "\n",
       "             total  total_count  masked_frac  \\\n",
       "393   2.637790e+08    263777984     0.866520   \n",
       "1099  2.745856e+08    274587131     0.898016   \n",
       "841   2.875451e+08    287543767     0.942496   \n",
       "111   2.877048e+08    287703718     0.947225   \n",
       "465   2.620041e+08    262003588     0.860697   \n",
       "\n",
       "                                                   bins  \\\n",
       "393   [-15.36, -10.239999999999998, -5.1199999999999...   \n",
       "1099  [-15.41, -15.4, -15.39, -15.38, -15.3700000000...   \n",
       "841   [-13.85, -13.84, -13.83, -13.82, -13.81, -13.7...   \n",
       "111   [-9.03, -9.02, -9.01, -9.0, -8.99, -8.97999999...   \n",
       "465   [-7.42, -7.41, -7.4, -7.39, -7.38, -7.37, -7.3...   \n",
       "\n",
       "                                                 counts       count_x  \n",
       "393   [20158.0, 3278005.7019607895, 252703487.658814...  2.527035e+08  \n",
       "1099  [1.0, 1.0, 3.0, 3.0, 5.0, 8.0, 12.0, 3.0, 9.0,...  1.259554e+06  \n",
       "841   [1.0, 0.0, 1.0, 3.0, 1.0, 0.0, 1.0, 3.0, 1.0, ...  1.095328e+06  \n",
       "111   [1.0, 1.0, 0.0, 6.0, 8.0, 18.0, 12.0, 4.0, 5.0...  7.868635e+05  \n",
       "465   [1.0, 18.0, 7.0, 3.0, 8.0, 1.0, 0.0, 6.0, 0.0,...  6.743415e+05  "
      ]
     },
     "execution_count": 22,
     "metadata": {},
     "output_type": "execute_result"
    },
    {
     "data": {
      "image/png": "[encoded data removed]",
      "text/plain": [
       "<Figure size 432x288 with 1 Axes>"
      ]
     },
     "metadata": {
      "needs_background": "light"
     },
     "output_type": "display_data"
    }
   ],
   "source": [
    "# Lookup the -5.12 pixels, they're all over the place...\n",
    "# Ah it's because of the histogram of the 83km. All values are now set to -5.12 in that cell. \n",
    "# Doesn't affect the output much, because there are only a few cells above 0 in that cell\n",
    "# Sent a mail to info@ahn.nl, asking them to fix this error\n",
    "def count_x(row, x=-5.119999999999999):\n",
    "    if not row['bins']:\n",
    "        return 0\n",
    "    if x not in row['bins']:\n",
    "        return 0\n",
    "    bins = row['bins']\n",
    "    idx = bins.index(-5.119999999999999)\n",
    "    return row['counts'][idx]\n",
    "gdf['count_x'] = gdf.apply(count_x, axis=1)\n",
    "\n",
    "fig, ax = plt.subplots()\n",
    "top_x = gdf.sort_values('count_x', ascending=False).head()\n",
    "top_x.apply(lambda row: ax.plot(row.bins, row.counts, label=row.name), axis=1)\n",
    "ax.legend()\n",
    "ax.set_xlim(-10, 10)\n",
    "top_x"
   ]
  },
  {
   "cell_type": "code",
   "execution_count": 23,
   "metadata": {
    "scrolled": true
   },
   "outputs": [
    {
     "data": {
      "text/plain": [
       "(-8.0, 100.0)"
      ]
     },
     "execution_count": 23,
     "metadata": {},
     "output_type": "execute_result"
    },
    {
     "data": {
      "image/png": "[encoded data removed]",
      "text/plain": [
       "<Figure size 432x288 with 1 Axes>"
      ]
     },
     "metadata": {
      "needs_background": "light"
     },
     "output_type": "display_data"
    }
   ],
   "source": [
    "fig, ax = plt.subplots()\n",
    "hist_df = pd.DataFrame(data=dict(bins=bins, counts=counts))\n",
    "hist_df = hist_df.groupby('bins').sum()\n",
    "hist_df = hist_df[hist_df['counts'] > 0]\n",
    "hist_df.plot(ax=ax)\n",
    "ax.set_xlim(-8, 100)"
   ]
  },
  {
   "cell_type": "code",
   "execution_count": 24,
   "metadata": {},
   "outputs": [],
   "source": [
    "gdf['max_bins'] = gdf['bins'].apply(lambda x: np.max(x) if x else 0)"
   ]
  },
  {
   "cell_type": "code",
   "execution_count": 25,
   "metadata": {},
   "outputs": [],
   "source": [
    "row = gdf.sort_values('max_bins', ascending=False).iloc[:1]"
   ]
  },
  {
   "cell_type": "code",
   "execution_count": 26,
   "metadata": {},
   "outputs": [
    {
     "data": {
      "text/plain": [
       "<matplotlib.axes._subplots.AxesSubplot at 0x13499d6d0>"
      ]
     },
     "execution_count": 26,
     "metadata": {},
     "output_type": "execute_result"
    },
    {
     "data": {
      "image/png": "[encoded data removed]",
      "text/plain": [
       "<Figure size 432x288 with 1 Axes>"
      ]
     },
     "metadata": {
      "needs_background": "light"
     },
     "output_type": "display_data"
    }
   ],
   "source": [
    "gdf[['geometry', 'max_bins']].plot('max_bins', vmax=100)"
   ]
  },
  {
   "cell_type": "code",
   "execution_count": 27,
   "metadata": {},
   "outputs": [
    {
     "data": {
      "text/plain": [
       "0.26695548053518486"
      ]
     },
     "execution_count": 27,
     "metadata": {},
     "output_type": "execute_result"
    }
   ],
   "source": [
    "# lookup % below sea level\n",
    "row = gdf.iloc[250]\n",
    "def perc_count(row, height=0.06):\n",
    "    idx = np.searchsorted(row['bins'], height)\n",
    "    count = np.sum(row['counts'][:idx])\n",
    "    return count\n",
    "gdf.apply(perc_count, axis=1).sum() / gdf['total'].sum()"
   ]
  },
  {
   "cell_type": "code",
   "execution_count": 28,
   "metadata": {},
   "outputs": [],
   "source": [
    "# lookup % below sealevel per meter\n",
    "rows = []\n",
    "for height in np.linspace(-5, 12.5, num=100):\n",
    "    perc = gdf.apply(lambda x:perc_count(x, height=height), axis=1).sum() / gdf['total'].sum()\n",
    "    row = {'height': height, 'perc': perc*100}\n",
    "    rows.append(row)"
   ]
  },
  {
   "cell_type": "code",
   "execution_count": 29,
   "metadata": {
    "scrolled": true
   },
   "outputs": [
    {
     "data": {
      "image/png": "[encoded data removed]",
      "text/plain": [
       "<Figure size 576x360 with 1 Axes>"
      ]
     },
     "metadata": {
      "needs_background": "light"
     },
     "output_type": "display_data"
    }
   ],
   "source": [
    "cumulative_df = pd.DataFrame(rows)\n",
    "\n",
    "\n",
    "fig, ax = plt.subplots(figsize=(8, 5))\n",
    "ax.plot(cumulative_df['height'], cumulative_df['perc'])\n",
    "ax.set_xlabel('Zeespiegel [m]')\n",
    "_ = ax.set_ylabel('Percentage Nederland onder zeespiegel')\n",
    "ax.grid(True)\n",
    "ax.vlines([0.06], 0, 26.6)\n",
    "ax.hlines([26.6], -10, 0.06)\n",
    "ax.annotate('6cm, 26.7%', (0.06, 27), (0.5, 27))\n",
    "ax.set_ylim(0, 70)\n",
    "ax.set_xlim(-5, 12.5)\n",
    "fig.savefig('nl-below-sl.pdf')"
   ]
  },
  {
   "cell_type": "code",
   "execution_count": 56,
   "metadata": {},
   "outputs": [],
   "source": [
    "ds = cumulative_df.to_xarray()\n",
    "\n",
    "ds['height'].attrs['units'] = 'meter'\n",
    "ds['perc'].attrs['long_name'] = 'cumulative percentage of the Netherlands below height'"
   ]
  },
  {
   "cell_type": "code",
   "execution_count": 57,
   "metadata": {},
   "outputs": [],
   "source": [
    "ds.to_netcdf('./nl-below-sl.nc')"
   ]
  },
  {
   "cell_type": "code",
   "execution_count": 58,
   "metadata": {},
   "outputs": [],
   "source": [
    "!open .\n"
   ]
  },
  {
   "cell_type": "code",
   "execution_count": null,
   "metadata": {},
   "outputs": [],
   "source": []
  }
 ],
 "metadata": {
  "kernelspec": {
   "display_name": "Python 3",
   "language": "python",
   "name": "python3"
  },
  "language_info": {
   "codemirror_mode": {
    "name": "ipython",
    "version": 3
   },
   "file_extension": ".py",
   "mimetype": "text/x-python",
   "name": "python",
   "nbconvert_exporter": "python",
   "pygments_lexer": "ipython3",
   "version": "3.8.6"
  }
 },
 "nbformat": 4,
 "nbformat_minor": 2
}
