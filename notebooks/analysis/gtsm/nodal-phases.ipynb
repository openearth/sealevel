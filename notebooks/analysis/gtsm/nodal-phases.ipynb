{
 "cells": [
  {
   "cell_type": "code",
   "execution_count": 16,
   "metadata": {},
   "outputs": [],
   "source": [
    "import datetime\n",
    "\n",
    "import pandas as pd\n",
    "import numpy as np\n",
    "import astropy.time\n",
    "\n",
    "import pint\n",
    "ureg = pint.UnitRegistry()\n",
    "\n",
    "\n",
    "Q_ = ureg.Quantity"
   ]
  },
  {
   "cell_type": "code",
   "execution_count": 12,
   "metadata": {},
   "outputs": [],
   "source": [
    "def date2six(date):\n",
    "    \"\"\"compute the phases of six tidal components at a date\"\"\"\n",
    "    t = pd.to_datetime(date)\n",
    "    mjdate =  t.to_julian_date() - 2400000.5\n",
    "\n",
    "    # astrol from here\n",
    "    TIME = mjdate\n",
    "\n",
    "    # this is 2000-01-01T12:00 in ET/TDT/TDB....\n",
    "    # https://en.wikipedia.org/wiki/Ephemeris_time\n",
    "    T    = TIME - 51544.4993   # reference to 2000/1/1 1200 o'clock\n",
    "\n",
    "    # \n",
    "    #      --- perform translations using translation table of symbols:\n",
    "    # \n",
    "    #          nr Cartwright  Doodson  Brown\n",
    "    #          1  tau         tau      360*t-D+180\n",
    "    #          2  q           s        L\n",
    "    #          3  q'          h        L'\n",
    "    #          4  p           p        \\overline(\\omega)\n",
    "    #          5  N           -N'      \\Omega\n",
    "    #          6  p'          p_1      \\overline{\\omega}'\n",
    "    # \n",
    "\n",
    "    # instantiate \n",
    "    six = [None for i in range(6)]\n",
    "    six[1] = 218.3164 + 13.17639648 * T\n",
    "    six[2] = 280.4661 +  0.98564736 * T\n",
    "    six[3] =  83.3535 +  0.11140353 * T\n",
    "    six[4] = 125.0445 -  0.05295377 * T\n",
    "    six[5] = 282.9384 +  0.0000471  * T\n",
    "\n",
    "\n",
    "    # \n",
    "    #      --- get them in the right quadranthttp://localhost:8889/notebooks/Untitled.ipynb?kernel_name=python3#\n",
    "    # \n",
    "\n",
    "    circle = 360\n",
    "    for i in range(1, 6):\n",
    "        six[i] =  np.mod(six[i], circle)\n",
    "        if (six[i] < 0):\n",
    "            six[i] = six[i] + circle\n",
    "\n",
    "    # \n",
    "    #          argument 1 in the doodson number denotes the mean lunar time.\n",
    "    #          According to equation 13 and the inline remark after equation 14\n",
    "    #          it is computed by\n",
    "    #          alpha_G = 360 * \"Universal time in fractions of a day\" + q'(T) - 180\n",
    "    #          tau = alpha_G - q\n",
    "    # \n",
    "\n",
    "    UT     = mjdate - int(mjdate)\n",
    "    six[0] = 360 * UT + six[2] - 180 - six[1]\n",
    "    return six"
   ]
  },
  {
   "cell_type": "code",
   "execution_count": 13,
   "metadata": {},
   "outputs": [
    {
     "data": {
      "text/plain": [
       "[-111.76345896434583,\n",
       " 211.73742523749473,\n",
       " 279.9739662731489,\n",
       " 83.29787621747064,\n",
       " 125.07093981736116,\n",
       " 282.93837648297]"
      ]
     },
     "execution_count": 13,
     "metadata": {},
     "output_type": "execute_result"
    }
   ],
   "source": [
    "# phases at 2000-01-01\n",
    "phases = date2six(datetime.datetime(2000, 1, 1))\n",
    "\n",
    "# phases in 360 degrees \n",
    "phases"
   ]
  },
  {
   "cell_type": "code",
   "execution_count": 25,
   "metadata": {},
   "outputs": [],
   "source": [
    "periods = [347.8092509724891, 13.17639648, 0.98564736, 0.11140353, 0.05295377, 0.0000471]\n",
    "epochs  = []\n",
    "for i in range(0, 6):\n",
    "    circle = Q_(360, 'deg')\n",
    "    phase = Q_(phases[i], 'deg')\n",
    "    # deg / day\n",
    "    period = Q_(periods[i], 'deg/day')\n",
    "    day_in_year = Q_(365.2425, 'days/year')\n",
    "    days_since_2000  = phase / period \n",
    "    years_since_2000 = days_since_2000 / day_in_year\n",
    "    epoch = astropy.time.Time('2000-1-1')\n",
    "    delta_t = astropy.time.TimeDelta(days_since_2000.magnitude, format='jd')\n",
    "    epochs.append(epoch + delta_t)\n"
   ]
  },
  {
   "cell_type": "code",
   "execution_count": 34,
   "metadata": {},
   "outputs": [],
   "source": [
    "names_cartwright  = [\"$\\tau$\", \"$q$\", \"$q'$\", \"$p$\", \"$N$\", \"$p'$\"]\n",
    "names_doodson = [\"$\\tau$\", \"$s$\", \"$h$\", \"$p$\", \"$-N'$\", \"$p_1$\"]\n",
    "\n",
    "data = {\n",
    "    \"phase\": phases,\n",
    "    \"period\": periods,\n",
    "    \"epoch\": epochs,\n",
    "    \"name_cartwright\": names_cartwright,\n",
    "    \"name_doodson\": names_doodson\n",
    "}\n",
    "df = pd.DataFrame(data)\n"
   ]
  },
  {
   "cell_type": "code",
   "execution_count": 35,
   "metadata": {},
   "outputs": [],
   "source": [
    "df.to_json('tidal-components.json', default_handler=str)"
   ]
  },
  {
   "cell_type": "code",
   "execution_count": 36,
   "metadata": {},
   "outputs": [
    {
     "data": {
      "text/html": [
       "<div>\n",
       "<style scoped>\n",
       "    .dataframe tbody tr th:only-of-type {\n",
       "        vertical-align: middle;\n",
       "    }\n",
       "\n",
       "    .dataframe tbody tr th {\n",
       "        vertical-align: top;\n",
       "    }\n",
       "\n",
       "    .dataframe thead th {\n",
       "        text-align: right;\n",
       "    }\n",
       "</style>\n",
       "<table border=\"1\" class=\"dataframe\">\n",
       "  <thead>\n",
       "    <tr style=\"text-align: right;\">\n",
       "      <th></th>\n",
       "      <th>phase</th>\n",
       "      <th>period</th>\n",
       "      <th>epoch</th>\n",
       "      <th>name_cartwright</th>\n",
       "      <th>name_doodson</th>\n",
       "    </tr>\n",
       "  </thead>\n",
       "  <tbody>\n",
       "    <tr>\n",
       "      <th>0</th>\n",
       "      <td>-111.763459</td>\n",
       "      <td>347.809251</td>\n",
       "      <td>1999-12-31 16:17:16.613</td>\n",
       "      <td>$\\tau$</td>\n",
       "      <td>$\\tau$</td>\n",
       "    </tr>\n",
       "    <tr>\n",
       "      <th>1</th>\n",
       "      <td>211.737425</td>\n",
       "      <td>13.176396</td>\n",
       "      <td>2000-01-17 01:40:00.354</td>\n",
       "      <td>$q$</td>\n",
       "      <td>$s$</td>\n",
       "    </tr>\n",
       "    <tr>\n",
       "      <th>2</th>\n",
       "      <td>279.973966</td>\n",
       "      <td>0.985647</td>\n",
       "      <td>2000-10-11 01:13:13.078</td>\n",
       "      <td>$q'$</td>\n",
       "      <td>$h$</td>\n",
       "    </tr>\n",
       "    <tr>\n",
       "      <th>3</th>\n",
       "      <td>83.297876</td>\n",
       "      <td>0.111404</td>\n",
       "      <td>2002-01-17 17:06:49.863</td>\n",
       "      <td>$p$</td>\n",
       "      <td>$p$</td>\n",
       "    </tr>\n",
       "    <tr>\n",
       "      <th>4</th>\n",
       "      <td>125.070940</td>\n",
       "      <td>0.052954</td>\n",
       "      <td>2006-06-19 21:20:29.723</td>\n",
       "      <td>$N$</td>\n",
       "      <td>$-N'$</td>\n",
       "    </tr>\n",
       "    <tr>\n",
       "      <th>5</th>\n",
       "      <td>282.938376</td>\n",
       "      <td>0.000047</td>\n",
       "      <td>18447-02-10 05:08:11.149</td>\n",
       "      <td>$p'$</td>\n",
       "      <td>$p_1$</td>\n",
       "    </tr>\n",
       "  </tbody>\n",
       "</table>\n",
       "</div>"
      ],
      "text/plain": [
       "        phase      period                     epoch name_cartwright  \\\n",
       "0 -111.763459  347.809251   1999-12-31 16:17:16.613          $\\tau$   \n",
       "1  211.737425   13.176396   2000-01-17 01:40:00.354             $q$   \n",
       "2  279.973966    0.985647   2000-10-11 01:13:13.078            $q'$   \n",
       "3   83.297876    0.111404   2002-01-17 17:06:49.863             $p$   \n",
       "4  125.070940    0.052954   2006-06-19 21:20:29.723             $N$   \n",
       "5  282.938376    0.000047  18447-02-10 05:08:11.149            $p'$   \n",
       "\n",
       "  name_doodson  \n",
       "0       $\\tau$  \n",
       "1          $s$  \n",
       "2          $h$  \n",
       "3          $p$  \n",
       "4        $-N'$  \n",
       "5        $p_1$  "
      ]
     },
     "execution_count": 36,
     "metadata": {},
     "output_type": "execute_result"
    }
   ],
   "source": [
    "df"
   ]
  },
  {
   "cell_type": "code",
   "execution_count": null,
   "metadata": {},
   "outputs": [],
   "source": []
  }
 ],
 "metadata": {
  "kernelspec": {
   "display_name": "Python 3",
   "language": "python",
   "name": "python3"
  },
  "language_info": {
   "codemirror_mode": {
    "name": "ipython",
    "version": 3
   },
   "file_extension": ".py",
   "mimetype": "text/x-python",
   "name": "python",
   "nbconvert_exporter": "python",
   "pygments_lexer": "ipython3",
   "version": "3.8.8"
  }
 },
 "nbformat": 4,
 "nbformat_minor": 4
}
