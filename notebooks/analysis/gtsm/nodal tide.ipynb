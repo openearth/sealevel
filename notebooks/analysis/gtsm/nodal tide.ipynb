{
 "cells": [
  {
   "cell_type": "code",
   "execution_count": 1,
   "metadata": {},
   "outputs": [],
   "source": [
    "import numpy as np\n",
    "import pandas as pd\n",
    "\n",
    "import xarray as xr\n",
    "import matplotlib.pyplot as plt\n",
    "import statsmodels.api as sm\n"
   ]
  },
  {
   "cell_type": "code",
   "execution_count": 2,
   "metadata": {},
   "outputs": [
    {
     "data": {
      "text/plain": [
       "<matplotlib.colors.LinearSegmentedColormap at 0x220ad7242e0>"
      ]
     },
     "execution_count": 2,
     "metadata": {},
     "output_type": "execute_result"
    }
   ],
   "source": [
    "# load a  colormap from https://www.fabiocrameri.ch/colourmaps/\n",
    "%run cmap.py\n",
    "romaO\n",
    "tokyo"
   ]
  },
  {
   "cell_type": "markdown",
   "metadata": {},
   "source": [
    "# Introduction\n",
    "This notebook is the analysis of GTSM nodal tide reanalysis run. In this run we simulate 19 years of just tidal forcing. The main research question is how does the nodal tide, the 18.613 cycle, affect the mean sea level and the tidal range. This question is relevant to be able to accurately assess the local sea-level rise. It can also help to predict so called king tides. The nodal tide is also known to affect cycles in vegetation and morphology in areas with higher tidal amplitude and shallow shores.  \n",
    "\n",
    "We use the following model run.\n",
    "- Schematization: GTSMv3.0EMODnet\n",
    "- Bathymetry: EMODnet2020\n",
    "- Run: production_runs_2021 (No Wind, No Waves, All tidal constituents active)\n",
    "- Runtime 1999-2017\n"
   ]
  },
  {
   "cell_type": "code",
   "execution_count": 3,
   "metadata": {},
   "outputs": [
    {
     "ename": "OSError",
     "evalue": "no files to open",
     "output_type": "error",
     "traceback": [
      "\u001b[1;31m---------------------------------------------------------------------------\u001b[0m",
      "\u001b[1;31mOSError\u001b[0m                                   Traceback (most recent call last)",
      "\u001b[1;32m<ipython-input-3-433d402b5005>\u001b[0m in \u001b[0;36m<module>\u001b[1;34m\u001b[0m\n\u001b[0;32m      1\u001b[0m \u001b[1;31m# All results (postprocessed using CDO for annual mean/min/max are stored here)\u001b[0m\u001b[1;33m\u001b[0m\u001b[1;33m\u001b[0m\u001b[1;33m\u001b[0m\u001b[0m\n\u001b[0;32m      2\u001b[0m \u001b[0mdata_dir\u001b[0m \u001b[1;33m=\u001b[0m \u001b[1;34m'/Users/baart_f/data/gtsm/nodal'\u001b[0m\u001b[1;33m\u001b[0m\u001b[1;33m\u001b[0m\u001b[0m\n\u001b[1;32m----> 3\u001b[1;33m \u001b[0mds_mean\u001b[0m \u001b[1;33m=\u001b[0m \u001b[0mxr\u001b[0m\u001b[1;33m.\u001b[0m\u001b[0mopen_mfdataset\u001b[0m\u001b[1;33m(\u001b[0m\u001b[0mdata_dir\u001b[0m \u001b[1;33m+\u001b[0m \u001b[1;34m'/EM_*_YEARMEAN_his.nc'\u001b[0m\u001b[1;33m,\u001b[0m \u001b[0mcombine\u001b[0m\u001b[1;33m=\u001b[0m\u001b[1;34m'by_coords'\u001b[0m\u001b[1;33m)\u001b[0m\u001b[1;33m\u001b[0m\u001b[1;33m\u001b[0m\u001b[0m\n\u001b[0m\u001b[0;32m      4\u001b[0m \u001b[0mds_max\u001b[0m \u001b[1;33m=\u001b[0m \u001b[0mxr\u001b[0m\u001b[1;33m.\u001b[0m\u001b[0mopen_mfdataset\u001b[0m\u001b[1;33m(\u001b[0m\u001b[0mdata_dir\u001b[0m \u001b[1;33m+\u001b[0m \u001b[1;34m'/EM_*_YEARMAX_his.nc'\u001b[0m\u001b[1;33m,\u001b[0m \u001b[0mcombine\u001b[0m\u001b[1;33m=\u001b[0m\u001b[1;34m'by_coords'\u001b[0m\u001b[1;33m)\u001b[0m\u001b[1;33m\u001b[0m\u001b[1;33m\u001b[0m\u001b[0m\n\u001b[0;32m      5\u001b[0m \u001b[0mds_min\u001b[0m \u001b[1;33m=\u001b[0m \u001b[0mxr\u001b[0m\u001b[1;33m.\u001b[0m\u001b[0mopen_mfdataset\u001b[0m\u001b[1;33m(\u001b[0m\u001b[0mdata_dir\u001b[0m \u001b[1;33m+\u001b[0m \u001b[1;34m'/EM_*_YEARMIN_his.nc'\u001b[0m\u001b[1;33m,\u001b[0m \u001b[0mcombine\u001b[0m\u001b[1;33m=\u001b[0m\u001b[1;34m'by_coords'\u001b[0m\u001b[1;33m)\u001b[0m\u001b[1;33m\u001b[0m\u001b[1;33m\u001b[0m\u001b[0m\n",
      "\u001b[1;32m~\\Anaconda3\\envs\\fedor_gtsm_env\\lib\\site-packages\\xarray\\backends\\api.py\u001b[0m in \u001b[0;36mopen_mfdataset\u001b[1;34m(paths, chunks, concat_dim, compat, preprocess, engine, lock, data_vars, coords, combine, parallel, join, attrs_file, **kwargs)\u001b[0m\n\u001b[0;32m    913\u001b[0m \u001b[1;33m\u001b[0m\u001b[0m\n\u001b[0;32m    914\u001b[0m     \u001b[1;32mif\u001b[0m \u001b[1;32mnot\u001b[0m \u001b[0mpaths\u001b[0m\u001b[1;33m:\u001b[0m\u001b[1;33m\u001b[0m\u001b[1;33m\u001b[0m\u001b[0m\n\u001b[1;32m--> 915\u001b[1;33m         \u001b[1;32mraise\u001b[0m \u001b[0mOSError\u001b[0m\u001b[1;33m(\u001b[0m\u001b[1;34m\"no files to open\"\u001b[0m\u001b[1;33m)\u001b[0m\u001b[1;33m\u001b[0m\u001b[1;33m\u001b[0m\u001b[0m\n\u001b[0m\u001b[0;32m    916\u001b[0m \u001b[1;33m\u001b[0m\u001b[0m\n\u001b[0;32m    917\u001b[0m     \u001b[1;31m# If combine='by_coords' then this is unnecessary, but quick.\u001b[0m\u001b[1;33m\u001b[0m\u001b[1;33m\u001b[0m\u001b[1;33m\u001b[0m\u001b[0m\n",
      "\u001b[1;31mOSError\u001b[0m: no files to open"
     ]
    }
   ],
   "source": [
    "# All results (postprocessed using CDO for annual mean/min/max are stored here)\n",
    "data_dir = '/Users/baart_f/data/gtsm/nodal'\n",
    "data_dir = 'c:\\DATA\\sealevel_data\\'\n",
    "ds_mean = xr.open_mfdataset(data_dir + '/EM_*_YEARMEAN_his.nc', combine='by_coords')\n",
    "ds_max = xr.open_mfdataset(data_dir + '/EM_*_YEARMAX_his.nc', combine='by_coords')\n",
    "ds_min = xr.open_mfdataset(data_dir + '/EM_*_YEARMIN_his.nc', combine='by_coords')"
   ]
  },
  {
   "cell_type": "code",
   "execution_count": null,
   "metadata": {},
   "outputs": [],
   "source": [
    "#retrieve station names from hisfile (they were lost with cdo commands for subset netcdf files)\n",
    "try:\n",
    "    from dfm_tools.get_nc_helpers import get_hisstationlist\n",
    "    file_his = data_dir + '/EM_19990101_0000_short_his.nc'\n",
    "    #file_his = r'p:\\\\1230882-emodnet_hrsm\\\\GTSMv3.0EMODnet\\\\EMODnet2020\\\\production_runs_2021\\\\EM_19990101\\\\EM_19990101_0000_his.nc'\n",
    "    stations_pd = get_hisstationlist(file_nc=file_his,varname='waterlevel')\n",
    "except:\n",
    "    print('if you want station names in the dataframes, install dfm_tools in your environment (pip install git+https://github.com/openearth/dfm_tools)')\n"
   ]
  },
  {
   "cell_type": "markdown",
   "metadata": {},
   "source": [
    "# Checks"
   ]
  },
  {
   "cell_type": "code",
   "execution_count": null,
   "metadata": {},
   "outputs": [],
   "source": [
    "dates  = ds_mean.waterlevel.time.values.astype('M8[ms]').astype('O')\n",
    "# we'll just use the years\n",
    "# This assumes that annual waterlevels are used that are stored left-padded, the mean waterlevel for 2020 is stored as 2020-1-1\n",
    "# This is not logical, but common practice.\n",
    "year = np.array([x.year for x in dates], dtype='double')\n",
    "\n",
    "assert  np.allclose(np.diff(year), 1), f'all years should be sequential: {year}'\n",
    "# show all the years\n",
    "year\n"
   ]
  },
  {
   "cell_type": "code",
   "execution_count": null,
   "metadata": {},
   "outputs": [],
   "source": [
    "lon = ds_mean.waterlevel.station_x_coordinate.values\n",
    "lat = ds_mean.waterlevel.station_y_coordinate.values"
   ]
  },
  {
   "cell_type": "code",
   "execution_count": null,
   "metadata": {},
   "outputs": [],
   "source": [
    "# Using the PSMSL and EU stations gives a skewness towards higher latitudes \n",
    "# (normalize in results)\n",
    "plt.hist(lat, bins=100);"
   ]
  },
  {
   "cell_type": "code",
   "execution_count": null,
   "metadata": {},
   "outputs": [],
   "source": [
    "# plot the datasets to check if they are correct.\n",
    "# there seems to be something wrong for 2014 and 2015 (visible in yearmean and yearmax)\n",
    "# also december seems off for the monthmeans, this might be because the spinup in december of the previous year is included in the montmean (although this should not be the case)\n",
    "# yearmin shows a non-nodal pattern\n",
    "fig,(ax1,ax2,ax3) = plt.subplots(3,1, figsize=(12,8), gridspec_kw={'height_ratios':[3,1,1]},sharex=True)\n",
    "wllines = ax1.plot(ds_mean['time'],ds_mean['waterlevel'][:,0], 'o-',label='yearmean')\n",
    "wllines = ax1.plot(ds_monmean['time'],ds_monmean['waterlevel'][:,0], '.-',label='monthmean')\n",
    "wllines = ax2.plot(ds_max['time'],ds_max['waterlevel'][:,0], 'o-',label='yearmax')\n",
    "wllines = ax3.plot(ds_min['time'],ds_min['waterlevel'][:,0], 'o-',label='yearmin')\n",
    "for ax in (ax1,ax2,ax3):\n",
    "    ax.legend(loc=0)\n",
    "    ax.grid()"
   ]
  },
  {
   "cell_type": "markdown",
   "metadata": {},
   "source": [
    "# Mean sea level analysis\n",
    "We will first analyse mean sea level. For this we will use a simple [harmonic fit](https://www.researchgate.net/profile/Phajm-Gelder/publication/236019217_The_Effect_of_the_186-Year_Lunar_Nodal_Cycle_on_Regional_Sea-Level_Rise_Estimates/links/0deec533fc3c070917000000/The-Effect-of-the-186-Year-Lunar-Nodal-Cycle-on-Regional-Sea-Level-Rise-Estimates.pdf) where we include two linearized components for the nodal tide and a constant sea-level. Using this harmonic fit we estimate the phase, amplitude and mean sea level using an ordinary least squared regression fit. From this fit, we can compute the phase and amplitude per station. \n",
    "\n"
   ]
  },
  {
   "cell_type": "code",
   "execution_count": null,
   "metadata": {},
   "outputs": [],
   "source": [
    "\"\"\"define a simple linear model, with nodal tide and without wind \"\"\"\n",
    "X = np.c_[\n",
    "    np.cos(2*np.pi*(year - 1970)/18.613),\n",
    "    np.sin(2*np.pi*(year - 1970)/18.613)\n",
    "]\n",
    "\n",
    "X = sm.add_constant(X)\n",
    "Y = ds_mean.waterlevel.values\n",
    "names = ['Constant', 'Nodal U', 'Nodal V']\n",
    "model = sm.OLS(Y, X, missing='drop')\n",
    "fit = model.fit()\n",
    "Constant = fit.params[0]\n",
    "A = fit.params[1]\n",
    "B = fit.params[2]\n",
    "phase = np.arctan2(B, A)\n",
    "amplitude = np.sqrt(A**2 + B**2)\n"
   ]
  },
  {
   "cell_type": "markdown",
   "metadata": {},
   "source": [
    "# Check mean sea level\n",
    "First we check if the mean water level is approximately 0. Possible cause for deviation is that we are using a non-uniform gravity map. \n",
    "\n",
    "Then we check if the constant water level is almost equal to the mean water level. If that's the case this histogram should be centered around 0. If this is not the case, we might want to examine a few of the extremes. Other causes for deviations include using a slightly longer time window (we now have exactly one cycle)."
   ]
  },
  {
   "cell_type": "code",
   "execution_count": null,
   "metadata": {},
   "outputs": [],
   "source": [
    "\n",
    "# Check exeptional waterlevels\n",
    "mean_waterlevel = np.nanmean(ds_mean.waterlevel.values, axis=0)\n",
    "plt.hist(mean_waterlevel, bins=100);\n",
    "df = pd.DataFrame(data=dict(lat=lat, lon=lon, mean_waterlevel=mean_waterlevel, amplitude=amplitude))\n",
    "df = df.drop_duplicates(['lat', 'lon'])\n",
    "\n",
    "# top 10 highest mean water levels\n",
    "df.sort_values('mean_waterlevel', ascending=False).head(n=10)"
   ]
  },
  {
   "cell_type": "code",
   "execution_count": null,
   "metadata": {},
   "outputs": [],
   "source": [
    "# we don't want the fit of the nodal cycle to result in a different mean, check this.\n",
    "fig, ax = plt.subplots(figsize=(8, 5))\n",
    "ax.hist(Constant - mean_waterlevel, bins=100);\n",
    "ax.set_title('Constant - mean sea level')\n",
    "ax.set_xlabel('Mean sea level [m]')\n",
    "ax.set_ylabel('N stations');"
   ]
  },
  {
   "cell_type": "markdown",
   "metadata": {},
   "source": [
    "# Mean sea level map\n",
    "This map is the mean sea level, taking into account the nodal tide. This map probably correlates to a map of gravity/mass that we used as input. There are a few outliers that have a much higher than average water level.\n",
    "Also check if the timespan (18 years is causing this). "
   ]
  },
  {
   "cell_type": "code",
   "execution_count": null,
   "metadata": {},
   "outputs": [],
   "source": [
    "fig, ax = plt.subplots(figsize=(13, 8))\n",
    "ax.set_title('Constant sea level [m]')\n",
    "sc = ax.scatter(lon, lat, c=Constant, s=3, vmax=0.02, vmin=-0.02, cmap='RdBu_r', label='Mean sea level [m]')\n",
    "plt.colorbar(sc, ax=ax, )"
   ]
  },
  {
   "cell_type": "markdown",
   "metadata": {},
   "source": [
    "# Nodal phase map\n",
    "This map is the nodal cycle phase. This map probably shows a strong correlation with the [equilibrium](https://www.researchgate.net/profile/Phajm_Gelder/publication/236019217_The_Effect_of_the_186-Year_Lunar_Nodal_Cycle_on_Regional_Sea-Level_Rise_Estimates/links/0deec533fc3c070917000000/The-Effect-of-the-186-Year-Lunar-Nodal-Cycle-on-Regional-Sea-Level-Rise-Estimates.pdf) (figure 4c) tide. Points are scaled with their amplitude so you don't see colors for points without nodal tide, where the phase is random. "
   ]
  },
  {
   "cell_type": "code",
   "execution_count": null,
   "metadata": {},
   "outputs": [],
   "source": [
    "fig, ax = plt.subplots(figsize=(13, 8))\n",
    "ax.set_title('Nodal Phase')\n",
    "sc = ax.scatter(lon, lat,  c=phase, cmap=romaO, vmin=-np.pi, vmax=np.pi, s=amplitude * 1000)\n",
    "plt.colorbar(sc, ax=ax)\n",
    "\n",
    "# show extreme locations that deviate from equilibrium and need to be investigated\n",
    "top_n = df.sort_values('amplitude', ascending=False).query('amplitude > 0.018')\n",
    "ax.plot(top_n['lon'], top_n['lat'], 'r+')\n"
   ]
  },
  {
   "cell_type": "markdown",
   "metadata": {},
   "source": [
    "# Nodal amplitude map\n",
    "This map is the nodal cycle amplitude. You expect to see higher amplitude at the equator and higher towards the higher latitudes.\n",
    "\n"
   ]
  },
  {
   "cell_type": "code",
   "execution_count": null,
   "metadata": {},
   "outputs": [],
   "source": [
    "fig, ax = plt.subplots(figsize=(13, 8))\n",
    "ax.set_title('Nodal Amplitude')\n",
    "im = ax.scatter(lon, lat,  c=amplitude, cmap=tokyo_r, vmin=0, vmax=0.02, s=3, label='amplitude')\n",
    "plt.colorbar(im, ax=ax)\n"
   ]
  },
  {
   "cell_type": "markdown",
   "metadata": {},
   "source": [
    "# Amplitude and phase as a function of latitude\n",
    "The figures below show the amplitude and phase as a function of latitude. This should be a squared sine function (or something like that) and a dichotomous phase plot, where the equator is in opposite phase.  We see a few points on the east US coast (Chessapeake Bay) that are in the opposite phase from equilibrium. "
   ]
  },
  {
   "cell_type": "code",
   "execution_count": null,
   "metadata": {},
   "outputs": [],
   "source": [
    "fig, axes = plt.subplots(ncols=3, figsize=(13, 4))\n",
    "axes[0].plot(amplitude, lat, '.');\n",
    "axes[0].set_xlabel('Amplitude [m]')\n",
    "axes[0].set_ylabel('Latitude [degree]')\n",
    "axes[1].plot(phase, lat, '.');\n",
    "axes[1].set_xlabel('Phase [rad, epoch=1970]')\n",
    "axes[1].set_ylabel('Latitude [degree]')\n",
    "axes[2].hist(phase, bins=100);\n"
   ]
  },
  {
   "cell_type": "code",
   "execution_count": null,
   "metadata": {},
   "outputs": [],
   "source": [
    "df = pd.DataFrame(data=dict(lat=lat, lon=lon, amplitude=amplitude))\n",
    "df.sort_values('amplitude', ascending=False).head(n=10)"
   ]
  },
  {
   "cell_type": "markdown",
   "metadata": {},
   "source": [
    "# Timeseries\n",
    "Here we visualize all timeseries by computing anomalies per station and sorting them by their latitude. You see the opposite phases around the 40 latitude. "
   ]
  },
  {
   "cell_type": "code",
   "execution_count": null,
   "metadata": {
    "scrolled": true
   },
   "outputs": [],
   "source": [
    "anomaly = (ds_mean.waterlevel - ds_mean.waterlevel.mean(axis=0))\n",
    "idx = np.argsort(ds_mean.station_y_coordinate.values)\n",
    "anomaly[:, idx].plot(y='station_y_coordinate', x='time', vmin=-0.03, vmax=0.03, cmap='RdBu_r')\n",
    "# ds_mean.time[7]\n"
   ]
  },
  {
   "cell_type": "markdown",
   "metadata": {},
   "source": [
    "# TODO: Nodal Ampltitude \n",
    "Describe spatial pattern, compare with M2 map. "
   ]
  },
  {
   "cell_type": "code",
   "execution_count": null,
   "metadata": {},
   "outputs": [],
   "source": [
    "year_max = np.array([x.year for x in ds_max.waterlevel.time.values.astype('M8[ms]').astype('O')], dtype='double')\n",
    "year_min = np.array([x.year for x in ds_min.waterlevel.time.values.astype('M8[ms]').astype('O')], dtype='double')\n",
    "\n",
    "assert np.allclose(year_max, year_min)\n",
    "year = year_min\n"
   ]
  },
  {
   "cell_type": "code",
   "execution_count": null,
   "metadata": {},
   "outputs": [],
   "source": [
    "X = np.c_[\n",
    "    np.cos(2*np.pi*(year - 1970)/18.613),\n",
    "    np.sin(2*np.pi*(year - 1970)/18.613)\n",
    "]\n",
    "Y = ds_max.waterlevel.values - ds_min.waterlevel.values\n",
    "names = ['Constant', 'Nodal U', 'Nodal V']\n",
    "X = sm.add_constant(X)\n",
    "model = sm.OLS(Y, X, missing='drop')\n",
    "fit = model.fit()\n",
    "A = fit.params[1]\n",
    "B = fit.params[2]\n",
    "phase = np.arctan2(B,  A)\n",
    "amplitude = np.sqrt(A**2 + B**2)"
   ]
  },
  {
   "cell_type": "code",
   "execution_count": null,
   "metadata": {},
   "outputs": [],
   "source": [
    "fig, ax = plt.subplots(figsize=(13, 8))\n",
    "ax.set_title('Nodal Phase Tidal Range (yearly Max- yearly Min)')\n",
    "sc = ax.scatter(lon, lat,  c=phase, cmap=romaO, vmin=-np.pi, vmax=np.pi, s=amplitude * 500)\n",
    "plt.colorbar(sc, ax=ax)"
   ]
  },
  {
   "cell_type": "code",
   "execution_count": null,
   "metadata": {},
   "outputs": [],
   "source": [
    "fig, ax = plt.subplots(figsize=(13, 8))\n",
    "ax.set_title('Nodal Amplitude Max-Min')\n",
    "im = ax.scatter(lon, lat,  c=amplitude, cmap='viridis', vmax=0.2, s=0.3, label='amplitude')\n",
    "plt.colorbar(im, ax=ax)"
   ]
  },
  {
   "cell_type": "code",
   "execution_count": null,
   "metadata": {},
   "outputs": [],
   "source": [
    "fig, axes = plt.subplots(ncols=2)\n",
    "axes[0].plot(lat, amplitude, '.');\n",
    "axes[1].hist(phase, bins=100);"
   ]
  },
  {
   "cell_type": "code",
   "execution_count": null,
   "metadata": {},
   "outputs": [],
   "source": []
  },
  {
   "cell_type": "code",
   "execution_count": null,
   "metadata": {},
   "outputs": [],
   "source": []
  }
 ],
 "metadata": {
  "kernelspec": {
   "display_name": "Python 3",
   "language": "python",
   "name": "python3"
  },
  "language_info": {
   "codemirror_mode": {
    "name": "ipython",
    "version": 3
   },
   "file_extension": ".py",
   "mimetype": "text/x-python",
   "name": "python",
   "nbconvert_exporter": "python",
   "pygments_lexer": "ipython3",
   "version": "3.9.2"
  }
 },
 "nbformat": 4,
 "nbformat_minor": 4
}
