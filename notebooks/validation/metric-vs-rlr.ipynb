{
 "cells": [
  {
   "cell_type": "markdown",
   "metadata": {},
   "source": [
    "# Metric vs RLR for Dutch stations\n",
    "This notebook checks the conversion from metric to post 2005 NAP. The conversion parameters are stored in figures (diagrams) at the PSMSL. These are hand coded into rlr2nap parameters. This notebook checks if these parameters correctly convert the rlr levels to NAP.  \n"
   ]
  },
  {
   "cell_type": "code",
   "execution_count": 1,
   "metadata": {},
   "outputs": [],
   "source": [
    "import io\n",
    "import zipfile\n",
    "\n",
    "import numpy as np\n",
    "\n",
    "import requests\n",
    "import matplotlib.pyplot as plt\n",
    "import pandas as pd"
   ]
  },
  {
   "cell_type": "code",
   "execution_count": 2,
   "metadata": {},
   "outputs": [],
   "source": [
    "# The datasets. TODO: put this in a configuration file\n",
    "psmsl_urls = {\n",
    "    'met_monthly': 'http://www.psmsl.org/data/obtaining/met.monthly.data/met_monthly.zip',\n",
    "    'rlr_monthly': 'http://www.psmsl.org/data/obtaining/rlr.monthly.data/rlr_monthly.zip',\n",
    "}\n",
    "url_names = {\n",
    "    'datum': '{dataset_name}/RLR_info/{id}.txt',\n",
    "    'diagram': '{dataset_name}/RLR_info/{id}.png',\n",
    "    'url': 'http://www.psmsl.org/data/obtaining/rlr.diagrams/{id}.php',\n",
    "    'rlr_monthly': '{dataset_name}/data/{id}.rlrdata',\n",
    "    'rlr_annual': '{dataset_name}/data/{id}.rlrdata',\n",
    "    'met_monthly': '{dataset_name}/data/{id}.metdata',\n",
    "    'doc': '{dataset_name}/docu/{id}.txt',\n",
    "    'contact': '{dataset_name}/docu/{id}_auth.txt'\n",
    "}\n",
    "\n",
    "main_stations = [\n",
    "    {\n",
    "        'id': 20,\n",
    "        'name': 'Vlissingen', \n",
    "        'rlr2nap': lambda x: x - (6976-46),\n",
    "        'alpha': 118\n",
    "    },\n",
    "    {\n",
    "        'id': 22,\n",
    "        'name': 'Hoek van Holland', \n",
    "        'rlr2nap': lambda x:x - (6987 - 114),\n",
    "        'alpha': 117\n",
    "    },\n",
    "    {\n",
    "        'id': 23,\n",
    "        'name': 'Den Helder', \n",
    "        'rlr2nap': lambda x: x - (6962 - 16),\n",
    "        'alpha': 107\n",
    "    },\n",
    "    {\n",
    "        'id': 24,\n",
    "        'name': 'Delfzijl', \n",
    "        'rlr2nap': lambda x: x - (6953 - 130),\n",
    "        'alpha': 117\n",
    "    },\n",
    "    {\n",
    "        'id': 25,\n",
    "        'name': 'Harlingen', \n",
    "        'rlr2nap': lambda x: x - (7024 - 110),\n",
    "        'alpha': 108\n",
    "    },\n",
    "    {\n",
    "        'id': 32,\n",
    "        'name': 'IJmuiden', \n",
    "        'rlr2nap': lambda x: x - (7014 - 64),\n",
    "        'alpha': 110\n",
    "    }\n",
    "]\n",
    "stations_by_id = {station['id']: station for station in main_stations}"
   ]
  },
  {
   "cell_type": "code",
   "execution_count": 3,
   "metadata": {},
   "outputs": [],
   "source": [
    "# Extract all datasets\n",
    "dfs = []\n",
    "for dataset_name, url in psmsl_urls.items():\n",
    "    resp = requests.get(url)\n",
    "    # we can read the zipfile\n",
    "    stream = io.BytesIO(resp.content)\n",
    "    zf = zipfile.ZipFile(stream)\n",
    "\n",
    "    # this list contains a table of \n",
    "    # station ID, latitude, longitude, station name, coastline code, station code, and quality flag\n",
    "    for id_ in [20, 22, 23, 24, 25,  32]:\n",
    "        info = {\"id\": id_, \"dataset_name\": dataset_name}\n",
    "        bytes = zf.read(url_names[dataset_name].format(**info))\n",
    "        df = pd.read_csv(\n",
    "            io.BytesIO(bytes), \n",
    "            sep=';', \n",
    "            names=('year', 'height', 'interpolated', 'flags')\n",
    "        )\n",
    "        df['station_id'] = id_\n",
    "        df['dataset'] = dataset_name\n",
    "        dfs.append(df)\n",
    "merged = pd.concat(dfs)"
   ]
  },
  {
   "cell_type": "code",
   "execution_count": 4,
   "metadata": {},
   "outputs": [],
   "source": [
    "# Compute all differences between relative and metric data\n",
    "diffs = []\n",
    "for station, df in merged.groupby('station_id'):\n",
    "    pivotted = df.pivot(index='year', columns='dataset', values=['height'])\n",
    "    pivotted['diff'] = np.diff(pivotted.height.values, axis=1)\n",
    "    pivotted['station_id'] = station\n",
    "    diffs.append(pivotted)\n",
    "diffs = pd.concat(diffs)    "
   ]
  },
  {
   "cell_type": "code",
   "execution_count": 5,
   "metadata": {},
   "outputs": [
    {
     "data": {
      "image/png": "[encoded data removed]",
      "text/plain": [
       "<Figure size 432x288 with 1 Axes>"
      ]
     },
     "metadata": {
      "needs_background": "light"
     },
     "output_type": "display_data"
    }
   ],
   "source": [
    "# All lines should end at 0, so that all values are relative to post 2005  NAP\n",
    "# These differences should correspond to the NAP publicatie 2004/5\n",
    "fig, ax = plt.subplots()\n",
    "for station_id, group in diffs.reset_index().groupby('station_id'):\n",
    "    station = stations_by_id[station_id]\n",
    "    nap_diff = station['rlr2nap'](group['diff'])\n",
    "    ax.plot(group.year, nap_diff, label=station['name'])\n",
    "ax.legend();"
   ]
  }
 ],
 "metadata": {
  "kernelspec": {
   "display_name": "Python 3",
   "language": "python",
   "name": "python3"
  },
  "language_info": {
   "codemirror_mode": {
    "name": "ipython",
    "version": 3
   },
   "file_extension": ".py",
   "mimetype": "text/x-python",
   "name": "python",
   "nbconvert_exporter": "python",
   "pygments_lexer": "ipython3",
   "version": "3.8.3"
  }
 },
 "nbformat": 4,
 "nbformat_minor": 4
}
